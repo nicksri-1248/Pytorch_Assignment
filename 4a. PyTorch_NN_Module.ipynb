{
  "nbformat": 4,
  "nbformat_minor": 0,
  "metadata": {
    "colab": {
      "provenance": []
    },
    "kernelspec": {
      "name": "python3",
      "display_name": "Python 3"
    },
    "language_info": {
      "name": "python"
    }
  },
  "cells": [
    {
      "cell_type": "code",
      "execution_count": 1,
      "metadata": {
        "id": "BsH6tPTAaiP5"
      },
      "outputs": [],
      "source": [
        "# Create Model Class\n",
        "\n",
        "import torch\n",
        "import torch.nn as nn\n",
        "\n",
        "class Model(nn.Module):\n",
        "\n",
        "    def __init__(self, num_features):\n",
        "\n",
        "      super().__init__()\n",
        "\n",
        "      self.linear = nn.Linear(num_features, 1)\n",
        "      self.sigmoid = nn.Sigmoid()\n",
        "\n",
        "    def forward(self, features):\n",
        "\n",
        "      out = self.linear(features)\n",
        "      out = self.sigmoid(out)\n",
        "\n",
        "      return out"
      ]
    },
    {
      "cell_type": "code",
      "source": [
        "# Create Dataset\n",
        "features = torch.rand(10, 5)\n",
        "\n",
        "# Create Model\n",
        "model = Model(features.shape[1])\n",
        "\n",
        "# Call Model for Forward Pass\n",
        "# model.forward(features)\n",
        "model(features)"
      ],
      "metadata": {
        "colab": {
          "base_uri": "https://localhost:8080/"
        },
        "id": "AcO5tUgDdVhs",
        "outputId": "d53cb6cd-6f4c-48e6-b09d-6314e9a281b8"
      },
      "execution_count": 2,
      "outputs": [
        {
          "output_type": "execute_result",
          "data": {
            "text/plain": [
              "tensor([[0.6282],\n",
              "        [0.6680],\n",
              "        [0.6934],\n",
              "        [0.6890],\n",
              "        [0.7021],\n",
              "        [0.7401],\n",
              "        [0.6828],\n",
              "        [0.6389],\n",
              "        [0.6703],\n",
              "        [0.6942]], grad_fn=<SigmoidBackward0>)"
            ]
          },
          "metadata": {},
          "execution_count": 2
        }
      ]
    },
    {
      "cell_type": "code",
      "source": [
        "# Show Model Weights\n",
        "\n",
        "model.linear.weight"
      ],
      "metadata": {
        "colab": {
          "base_uri": "https://localhost:8080/"
        },
        "id": "BgHDbOz9d5SW",
        "outputId": "07fd7ebe-df0d-4f25-c667-29bb82d3bb0f"
      },
      "execution_count": 3,
      "outputs": [
        {
          "output_type": "execute_result",
          "data": {
            "text/plain": [
              "Parameter containing:\n",
              "tensor([[ 0.1985,  0.3937,  0.3225, -0.1638,  0.2458]], requires_grad=True)"
            ]
          },
          "metadata": {},
          "execution_count": 3
        }
      ]
    },
    {
      "cell_type": "code",
      "source": [
        "model.linear.bias"
      ],
      "metadata": {
        "colab": {
          "base_uri": "https://localhost:8080/"
        },
        "id": "c_M9BVDaeGxY",
        "outputId": "405c3160-4950-4c32-e10e-2b69965e91c5"
      },
      "execution_count": 4,
      "outputs": [
        {
          "output_type": "execute_result",
          "data": {
            "text/plain": [
              "Parameter containing:\n",
              "tensor([0.3328], requires_grad=True)"
            ]
          },
          "metadata": {},
          "execution_count": 4
        }
      ]
    },
    {
      "cell_type": "code",
      "source": [
        "!pip install torchinfo"
      ],
      "metadata": {
        "colab": {
          "base_uri": "https://localhost:8080/"
        },
        "id": "YWyYPNC4eT7s",
        "outputId": "a32881cd-c235-4332-e153-0a5cb23359ab"
      },
      "execution_count": 5,
      "outputs": [
        {
          "output_type": "stream",
          "name": "stdout",
          "text": [
            "Requirement already satisfied: torchinfo in /usr/local/lib/python3.12/dist-packages (1.8.0)\n"
          ]
        }
      ]
    },
    {
      "cell_type": "code",
      "source": [
        "from torchinfo import summary\n",
        "\n",
        "summary(model, input_size=(10, 5))"
      ],
      "metadata": {
        "colab": {
          "base_uri": "https://localhost:8080/"
        },
        "id": "XpSTgFi8eb8b",
        "outputId": "5ca47a3b-90e5-4010-e2db-3e8b1d8a5aba"
      },
      "execution_count": 6,
      "outputs": [
        {
          "output_type": "execute_result",
          "data": {
            "text/plain": [
              "==========================================================================================\n",
              "Layer (type:depth-idx)                   Output Shape              Param #\n",
              "==========================================================================================\n",
              "Model                                    [10, 1]                   --\n",
              "├─Linear: 1-1                            [10, 1]                   6\n",
              "├─Sigmoid: 1-2                           [10, 1]                   --\n",
              "==========================================================================================\n",
              "Total params: 6\n",
              "Trainable params: 6\n",
              "Non-trainable params: 0\n",
              "Total mult-adds (Units.MEGABYTES): 0.00\n",
              "==========================================================================================\n",
              "Input size (MB): 0.00\n",
              "Forward/backward pass size (MB): 0.00\n",
              "Params size (MB): 0.00\n",
              "Estimated Total Size (MB): 0.00\n",
              "=========================================================================================="
            ]
          },
          "metadata": {},
          "execution_count": 6
        }
      ]
    },
    {
      "cell_type": "code",
      "source": [
        "# Create Model Class\n",
        "\n",
        "import torch\n",
        "import torch.nn as nn\n",
        "\n",
        "class Model(nn.Module):\n",
        "\n",
        "    def __init__(self, num_features):\n",
        "\n",
        "      super().__init__()\n",
        "\n",
        "      self.linear1 = nn.Linear(num_features, 3)\n",
        "      self.relu = nn.ReLU()\n",
        "      self.linear2 = nn.Linear(3, 1)\n",
        "      self.sigmoid = nn.Sigmoid()\n",
        "\n",
        "    def forward(self, features):\n",
        "\n",
        "      out = self.linear1(features)\n",
        "      out = self.relu(out)\n",
        "      out = self.linear2(out)\n",
        "      out = self.sigmoid(out)\n",
        "\n",
        "      return out"
      ],
      "metadata": {
        "id": "EmLglgitegB9"
      },
      "execution_count": 7,
      "outputs": []
    },
    {
      "cell_type": "code",
      "source": [
        "# Create Dataset\n",
        "features = torch.rand(10, 5)\n",
        "\n",
        "# Create Model\n",
        "model = Model(features.shape[1])\n",
        "\n",
        "# Call Model for Forward Pass\n",
        "# model.forward(features)\n",
        "model(features)"
      ],
      "metadata": {
        "colab": {
          "base_uri": "https://localhost:8080/"
        },
        "id": "rSmDzoTofqXE",
        "outputId": "ef562860-8faf-474b-f94c-6b71c9695a07"
      },
      "execution_count": 8,
      "outputs": [
        {
          "output_type": "execute_result",
          "data": {
            "text/plain": [
              "tensor([[0.5639],\n",
              "        [0.6056],\n",
              "        [0.5734],\n",
              "        [0.6063],\n",
              "        [0.5891],\n",
              "        [0.5809],\n",
              "        [0.5868],\n",
              "        [0.5832],\n",
              "        [0.5787],\n",
              "        [0.5809]], grad_fn=<SigmoidBackward0>)"
            ]
          },
          "metadata": {},
          "execution_count": 8
        }
      ]
    },
    {
      "cell_type": "code",
      "source": [
        "# Show Model Weights\n",
        "\n",
        "model.linear1.weight"
      ],
      "metadata": {
        "colab": {
          "base_uri": "https://localhost:8080/"
        },
        "id": "OlGwgZWOfuW2",
        "outputId": "b579143c-897b-44d5-bfb4-9ba42222d06a"
      },
      "execution_count": 9,
      "outputs": [
        {
          "output_type": "execute_result",
          "data": {
            "text/plain": [
              "Parameter containing:\n",
              "tensor([[-0.0080, -0.2807, -0.1587, -0.0786,  0.3778],\n",
              "        [ 0.0295,  0.4462, -0.1078, -0.2629,  0.3296],\n",
              "        [ 0.1430,  0.1999, -0.0881,  0.3996, -0.3090]], requires_grad=True)"
            ]
          },
          "metadata": {},
          "execution_count": 9
        }
      ]
    },
    {
      "cell_type": "code",
      "source": [
        "model.linear2.weight"
      ],
      "metadata": {
        "colab": {
          "base_uri": "https://localhost:8080/"
        },
        "id": "Doc7Iegwfzu8",
        "outputId": "fdf6ef39-7dca-4f19-a0c0-bc9c3d1d1127"
      },
      "execution_count": 10,
      "outputs": [
        {
          "output_type": "execute_result",
          "data": {
            "text/plain": [
              "Parameter containing:\n",
              "tensor([[ 0.4853,  0.2975, -0.4516]], requires_grad=True)"
            ]
          },
          "metadata": {},
          "execution_count": 10
        }
      ]
    },
    {
      "cell_type": "code",
      "source": [
        "from torchinfo import summary\n",
        "\n",
        "summary(model, input_size=(10, 5))"
      ],
      "metadata": {
        "colab": {
          "base_uri": "https://localhost:8080/"
        },
        "id": "54hgeMFwf6d2",
        "outputId": "376dadd6-be62-4b97-c870-f7eb8c355b22"
      },
      "execution_count": 11,
      "outputs": [
        {
          "output_type": "execute_result",
          "data": {
            "text/plain": [
              "==========================================================================================\n",
              "Layer (type:depth-idx)                   Output Shape              Param #\n",
              "==========================================================================================\n",
              "Model                                    [10, 1]                   --\n",
              "├─Linear: 1-1                            [10, 3]                   18\n",
              "├─ReLU: 1-2                              [10, 3]                   --\n",
              "├─Linear: 1-3                            [10, 1]                   4\n",
              "├─Sigmoid: 1-4                           [10, 1]                   --\n",
              "==========================================================================================\n",
              "Total params: 22\n",
              "Trainable params: 22\n",
              "Non-trainable params: 0\n",
              "Total mult-adds (Units.MEGABYTES): 0.00\n",
              "==========================================================================================\n",
              "Input size (MB): 0.00\n",
              "Forward/backward pass size (MB): 0.00\n",
              "Params size (MB): 0.00\n",
              "Estimated Total Size (MB): 0.00\n",
              "=========================================================================================="
            ]
          },
          "metadata": {},
          "execution_count": 11
        }
      ]
    },
    {
      "cell_type": "code",
      "source": [
        "# Create Model Class\n",
        "\n",
        "import torch\n",
        "import torch.nn as nn\n",
        "\n",
        "class Model(nn.Module):\n",
        "\n",
        "    def __init__(self, num_features):\n",
        "\n",
        "      super().__init__()\n",
        "      self.network = nn.Sequential(\n",
        "          nn.Linear(num_features, 3),\n",
        "          nn.ReLU(),\n",
        "          nn.Linear(3, 1),\n",
        "          nn.Sigmoid()\n",
        "      )\n",
        "\n",
        "    def forward(self, features):\n",
        "\n",
        "      out = self.network(features)\n",
        "\n",
        "      return out"
      ],
      "metadata": {
        "id": "Vm6_6KvDf8z1"
      },
      "execution_count": 12,
      "outputs": []
    },
    {
      "cell_type": "code",
      "source": [
        "# Create Dataset\n",
        "features = torch.rand(10, 5)\n",
        "\n",
        "# Create Model\n",
        "model = Model(features.shape[1])\n",
        "\n",
        "# Call Model for Forward Pass\n",
        "# model.forward(features)\n",
        "model(features)"
      ],
      "metadata": {
        "colab": {
          "base_uri": "https://localhost:8080/"
        },
        "id": "aZqp3RyQgZxd",
        "outputId": "7e28eb8d-d346-48f2-c4ad-accdeae446df"
      },
      "execution_count": 13,
      "outputs": [
        {
          "output_type": "execute_result",
          "data": {
            "text/plain": [
              "tensor([[0.5766],\n",
              "        [0.5696],\n",
              "        [0.5622],\n",
              "        [0.5651],\n",
              "        [0.5766],\n",
              "        [0.5544],\n",
              "        [0.5766],\n",
              "        [0.5633],\n",
              "        [0.5739],\n",
              "        [0.5766]], grad_fn=<SigmoidBackward0>)"
            ]
          },
          "metadata": {},
          "execution_count": 13
        }
      ]
    },
    {
      "cell_type": "code",
      "source": [],
      "metadata": {
        "id": "3Xjtj_jngl1r"
      },
      "execution_count": 13,
      "outputs": []
    }
  ]
}
