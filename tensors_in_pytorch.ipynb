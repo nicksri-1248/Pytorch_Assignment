{
  "nbformat": 4,
  "nbformat_minor": 0,
  "metadata": {
    "colab": {
      "provenance": [],
      "gpuType": "T4"
    },
    "kernelspec": {
      "name": "python3",
      "display_name": "Python 3"
    },
    "language_info": {
      "name": "python"
    },
    "accelerator": "GPU"
  },
  "cells": [
    {
      "cell_type": "code",
      "execution_count": 1,
      "metadata": {
        "colab": {
          "base_uri": "https://localhost:8080/"
        },
        "id": "dEqQ2VZv1UH9",
        "outputId": "aa8d60c1-52a4-42e8-8f55-2c2f3b1f976a"
      },
      "outputs": [
        {
          "output_type": "stream",
          "name": "stdout",
          "text": [
            "2.8.0+cu126\n"
          ]
        }
      ],
      "source": [
        "import torch\n",
        "print(torch.__version__)"
      ]
    },
    {
      "cell_type": "code",
      "source": [
        "if torch.cuda.is_available():\n",
        "    print(\"GPU is available!\")\n",
        "    print(f\"Using GPU: {torch.cuda.get_device_name(0)}\")\n",
        "else:\n",
        "    print(\"GPU not available. Using CPU.\")"
      ],
      "metadata": {
        "colab": {
          "base_uri": "https://localhost:8080/"
        },
        "id": "UIDsooDa1ivl",
        "outputId": "3d2fa8c5-b10c-4e36-b251-2753ffade550"
      },
      "execution_count": 2,
      "outputs": [
        {
          "output_type": "stream",
          "name": "stdout",
          "text": [
            "GPU is available!\n",
            "Using GPU: Tesla T4\n"
          ]
        }
      ]
    },
    {
      "cell_type": "markdown",
      "source": [
        "# Creating a Tensor"
      ],
      "metadata": {
        "id": "KiAibr9s2Pkl"
      }
    },
    {
      "cell_type": "code",
      "source": [
        "# using empty\n",
        "torch.empty(2, 3)\n"
      ],
      "metadata": {
        "colab": {
          "base_uri": "https://localhost:8080/"
        },
        "id": "clkAl-HT1-tQ",
        "outputId": "e9cf7528-44ba-440b-8da1-0232cc527bf5"
      },
      "execution_count": 3,
      "outputs": [
        {
          "output_type": "execute_result",
          "data": {
            "text/plain": [
              "tensor([[ 0.0000e+00,  0.0000e+00,  5.8434e-43],\n",
              "        [ 0.0000e+00, -1.1776e+07,  4.3628e-41]])"
            ]
          },
          "metadata": {},
          "execution_count": 3
        }
      ]
    },
    {
      "cell_type": "code",
      "source": [
        "a = torch.empty(2, 3)"
      ],
      "metadata": {
        "id": "a-wCITqF3SFz"
      },
      "execution_count": 4,
      "outputs": []
    },
    {
      "cell_type": "code",
      "source": [
        "# check type\n",
        "type(a)"
      ],
      "metadata": {
        "colab": {
          "base_uri": "https://localhost:8080/"
        },
        "id": "aM4QSJ9j2U1M",
        "outputId": "d9177352-6f08-4cc8-be03-73668a5aef5e"
      },
      "execution_count": 5,
      "outputs": [
        {
          "output_type": "execute_result",
          "data": {
            "text/plain": [
              "torch.Tensor"
            ]
          },
          "metadata": {},
          "execution_count": 5
        }
      ]
    },
    {
      "cell_type": "code",
      "source": [
        "# using zeros\n",
        "torch.zeros(2, 3)"
      ],
      "metadata": {
        "colab": {
          "base_uri": "https://localhost:8080/"
        },
        "id": "1CQ2qvQI2Xt_",
        "outputId": "d1a3d698-6494-43b0-e193-703a14a44a08"
      },
      "execution_count": 6,
      "outputs": [
        {
          "output_type": "execute_result",
          "data": {
            "text/plain": [
              "tensor([[0., 0., 0.],\n",
              "        [0., 0., 0.]])"
            ]
          },
          "metadata": {},
          "execution_count": 6
        }
      ]
    },
    {
      "cell_type": "code",
      "source": [
        "# using ones\n",
        "torch.ones(2, 3)"
      ],
      "metadata": {
        "colab": {
          "base_uri": "https://localhost:8080/"
        },
        "id": "1c1mOpf721jX",
        "outputId": "36d84bb3-34f8-4f6b-e65a-2d8b4ec4d904"
      },
      "execution_count": 7,
      "outputs": [
        {
          "output_type": "execute_result",
          "data": {
            "text/plain": [
              "tensor([[1., 1., 1.],\n",
              "        [1., 1., 1.]])"
            ]
          },
          "metadata": {},
          "execution_count": 7
        }
      ]
    },
    {
      "cell_type": "code",
      "source": [
        "# using rand\n",
        "torch.rand(2, 3)"
      ],
      "metadata": {
        "colab": {
          "base_uri": "https://localhost:8080/"
        },
        "id": "QMIhxobl3j8q",
        "outputId": "e062e625-8d9d-478b-a3f6-9cbf6bec5aff"
      },
      "execution_count": 8,
      "outputs": [
        {
          "output_type": "execute_result",
          "data": {
            "text/plain": [
              "tensor([[0.5254, 0.7387, 0.8206],\n",
              "        [0.3567, 0.6022, 0.6926]])"
            ]
          },
          "metadata": {},
          "execution_count": 8
        }
      ]
    },
    {
      "cell_type": "code",
      "source": [
        "# use of seed\n",
        "torch.rand(2, 3)"
      ],
      "metadata": {
        "colab": {
          "base_uri": "https://localhost:8080/"
        },
        "id": "IVjawhuI3oVM",
        "outputId": "0071e1e9-09ca-4aee-f0e8-c5af00512bd4"
      },
      "execution_count": 9,
      "outputs": [
        {
          "output_type": "execute_result",
          "data": {
            "text/plain": [
              "tensor([[0.5269, 0.2980, 0.6306],\n",
              "        [0.5731, 0.1663, 0.9163]])"
            ]
          },
          "metadata": {},
          "execution_count": 9
        }
      ]
    },
    {
      "cell_type": "code",
      "source": [
        "# manual seed\n",
        "torch.manual_seed(100)\n",
        "torch.rand(2, 3)"
      ],
      "metadata": {
        "colab": {
          "base_uri": "https://localhost:8080/"
        },
        "id": "yfNuASeB3qXR",
        "outputId": "5bc48147-fb11-4443-91bf-131d2832bdc8"
      },
      "execution_count": 10,
      "outputs": [
        {
          "output_type": "execute_result",
          "data": {
            "text/plain": [
              "tensor([[0.1117, 0.8158, 0.2626],\n",
              "        [0.4839, 0.6765, 0.7539]])"
            ]
          },
          "metadata": {},
          "execution_count": 10
        }
      ]
    },
    {
      "cell_type": "code",
      "source": [
        "torch.manual_seed(100)\n",
        "torch.rand(2, 3)"
      ],
      "metadata": {
        "colab": {
          "base_uri": "https://localhost:8080/"
        },
        "id": "ZzI-w45H3rag",
        "outputId": "dff3a7f9-cebb-441c-bfc5-e2532a59bd2d"
      },
      "execution_count": 11,
      "outputs": [
        {
          "output_type": "execute_result",
          "data": {
            "text/plain": [
              "tensor([[0.1117, 0.8158, 0.2626],\n",
              "        [0.4839, 0.6765, 0.7539]])"
            ]
          },
          "metadata": {},
          "execution_count": 11
        }
      ]
    },
    {
      "cell_type": "code",
      "source": [
        "# using tensor\n",
        "torch.tensor([[1,2,3],[4,5,6]])"
      ],
      "metadata": {
        "colab": {
          "base_uri": "https://localhost:8080/"
        },
        "id": "0T1puxT23-8h",
        "outputId": "734239ba-c196-4dec-e356-869d8f79319d"
      },
      "execution_count": 12,
      "outputs": [
        {
          "output_type": "execute_result",
          "data": {
            "text/plain": [
              "tensor([[1, 2, 3],\n",
              "        [4, 5, 6]])"
            ]
          },
          "metadata": {},
          "execution_count": 12
        }
      ]
    },
    {
      "cell_type": "code",
      "source": [
        "# other ways\n",
        "\n",
        "# arange\n",
        "print(\"using arang ->\", torch.arange(0,10))\n",
        "print(\"using arang ->\", torch.arange(0,10,2))\n",
        "\n",
        "# using linspace\n",
        "print(\"using linspace ->\", torch.linspace(0,10,10))\n",
        "\n",
        "# using eye\n",
        "print(\"using eye ->\", torch.eye(5))\n",
        "\n",
        "# using full\n",
        "print(\"using full ->\", torch.full((3,3), 5))"
      ],
      "metadata": {
        "colab": {
          "base_uri": "https://localhost:8080/"
        },
        "id": "KZgc3bIR4Fkw",
        "outputId": "ae60a537-f48c-4ef4-cdd9-64de8cf6145b"
      },
      "execution_count": 13,
      "outputs": [
        {
          "output_type": "stream",
          "name": "stdout",
          "text": [
            "using arang -> tensor([0, 1, 2, 3, 4, 5, 6, 7, 8, 9])\n",
            "using arang -> tensor([0, 2, 4, 6, 8])\n",
            "using linspace -> tensor([ 0.0000,  1.1111,  2.2222,  3.3333,  4.4444,  5.5556,  6.6667,  7.7778,\n",
            "         8.8889, 10.0000])\n",
            "using eye -> tensor([[1., 0., 0., 0., 0.],\n",
            "        [0., 1., 0., 0., 0.],\n",
            "        [0., 0., 1., 0., 0.],\n",
            "        [0., 0., 0., 1., 0.],\n",
            "        [0., 0., 0., 0., 1.]])\n",
            "using full -> tensor([[5, 5, 5],\n",
            "        [5, 5, 5],\n",
            "        [5, 5, 5]])\n"
          ]
        }
      ]
    },
    {
      "cell_type": "markdown",
      "source": [
        "# Tensor Shapes"
      ],
      "metadata": {
        "id": "7kfBjFGS4-Dv"
      }
    },
    {
      "cell_type": "code",
      "source": [
        "x = torch.tensor([[1,2,3],[4,5,6]])\n",
        "x"
      ],
      "metadata": {
        "colab": {
          "base_uri": "https://localhost:8080/"
        },
        "id": "mY-ygJgI4eoO",
        "outputId": "75398d1f-72e5-4963-e276-84728c4cb1d2"
      },
      "execution_count": 14,
      "outputs": [
        {
          "output_type": "execute_result",
          "data": {
            "text/plain": [
              "tensor([[1, 2, 3],\n",
              "        [4, 5, 6]])"
            ]
          },
          "metadata": {},
          "execution_count": 14
        }
      ]
    },
    {
      "cell_type": "code",
      "source": [
        "x.shape"
      ],
      "metadata": {
        "colab": {
          "base_uri": "https://localhost:8080/"
        },
        "id": "-S8Rh9en5Jqe",
        "outputId": "4738ae9a-38ac-473a-f308-f9f0a87ecca9"
      },
      "execution_count": 15,
      "outputs": [
        {
          "output_type": "execute_result",
          "data": {
            "text/plain": [
              "torch.Size([2, 3])"
            ]
          },
          "metadata": {},
          "execution_count": 15
        }
      ]
    },
    {
      "cell_type": "code",
      "source": [
        "torch.empty_like(x)"
      ],
      "metadata": {
        "colab": {
          "base_uri": "https://localhost:8080/"
        },
        "id": "hDp8MDjY5OG7",
        "outputId": "338691c7-8c1f-4e60-840a-c48fc8dc8e72"
      },
      "execution_count": 16,
      "outputs": [
        {
          "output_type": "execute_result",
          "data": {
            "text/plain": [
              "tensor([[    84792,         0,         0],\n",
              "        [      113, 347292688, 347319824]])"
            ]
          },
          "metadata": {},
          "execution_count": 16
        }
      ]
    },
    {
      "cell_type": "code",
      "source": [
        "torch.zeros_like(x)"
      ],
      "metadata": {
        "colab": {
          "base_uri": "https://localhost:8080/"
        },
        "id": "NQahtV_t5bEp",
        "outputId": "781ef788-6738-49eb-df14-b844748443c8"
      },
      "execution_count": 17,
      "outputs": [
        {
          "output_type": "execute_result",
          "data": {
            "text/plain": [
              "tensor([[0, 0, 0],\n",
              "        [0, 0, 0]])"
            ]
          },
          "metadata": {},
          "execution_count": 17
        }
      ]
    },
    {
      "cell_type": "code",
      "source": [
        "torch.ones_like(x)"
      ],
      "metadata": {
        "colab": {
          "base_uri": "https://localhost:8080/"
        },
        "id": "jSOQMhV15gBX",
        "outputId": "8b448c90-a9da-4a55-d24e-b988d8ef3bb9"
      },
      "execution_count": 18,
      "outputs": [
        {
          "output_type": "execute_result",
          "data": {
            "text/plain": [
              "tensor([[1, 1, 1],\n",
              "        [1, 1, 1]])"
            ]
          },
          "metadata": {},
          "execution_count": 18
        }
      ]
    },
    {
      "cell_type": "code",
      "source": [
        "# torch.rand_like(x)\n",
        "# NotImplementedError                       Traceback (most recent call last)\n",
        "# /tmp/ipython-input-1888830451.py in <cell line: 0>()\n",
        "# ----> 1 torch.rand_like(x)\n",
        "#       2\n",
        "#       3 # reason :- rand generates floats in between 0 to 1, therefore we need to tell explicitly to genrate float\n",
        "\n",
        "# NotImplementedError: \"check_uniform_bounds\" not implemented for 'Long'\n",
        "\n",
        "# reason :- rand generates floats in between 0 to 1, therefore we need to tell explicitly to genrate float"
      ],
      "metadata": {
        "id": "9U1rrp-v5jqo"
      },
      "execution_count": 19,
      "outputs": []
    },
    {
      "cell_type": "code",
      "source": [
        "torch.rand_like(x, dtype = torch.float32)"
      ],
      "metadata": {
        "colab": {
          "base_uri": "https://localhost:8080/"
        },
        "id": "Q4BABfOA6zbj",
        "outputId": "287f9178-3250-4cb9-c75c-9e22ef6511bf"
      },
      "execution_count": 20,
      "outputs": [
        {
          "output_type": "execute_result",
          "data": {
            "text/plain": [
              "tensor([[0.2627, 0.0428, 0.2080],\n",
              "        [0.1180, 0.1217, 0.7356]])"
            ]
          },
          "metadata": {},
          "execution_count": 20
        }
      ]
    },
    {
      "cell_type": "markdown",
      "source": [
        "# Tensor Data Types"
      ],
      "metadata": {
        "id": "3tzqF0Cv6FTG"
      }
    },
    {
      "cell_type": "code",
      "source": [
        "# find data type\n",
        "x.dtype"
      ],
      "metadata": {
        "colab": {
          "base_uri": "https://localhost:8080/"
        },
        "id": "7fQfgIl55nT6",
        "outputId": "e084c192-a467-4ce3-fac6-e1220bd024d4"
      },
      "execution_count": 21,
      "outputs": [
        {
          "output_type": "execute_result",
          "data": {
            "text/plain": [
              "torch.int64"
            ]
          },
          "metadata": {},
          "execution_count": 21
        }
      ]
    },
    {
      "cell_type": "code",
      "source": [
        "# assign data type\n",
        "torch.tensor([1.0, 2.0, 3.0], dtype=torch.int32)"
      ],
      "metadata": {
        "colab": {
          "base_uri": "https://localhost:8080/"
        },
        "id": "mxaiti896M5q",
        "outputId": "3284e821-2d26-43d1-a676-884a95d729b8"
      },
      "execution_count": 22,
      "outputs": [
        {
          "output_type": "execute_result",
          "data": {
            "text/plain": [
              "tensor([1, 2, 3], dtype=torch.int32)"
            ]
          },
          "metadata": {},
          "execution_count": 22
        }
      ]
    },
    {
      "cell_type": "code",
      "source": [
        "torch.tensor([1,2,3], dtype=torch.float64)"
      ],
      "metadata": {
        "colab": {
          "base_uri": "https://localhost:8080/"
        },
        "id": "t9ZOpCKf6YaJ",
        "outputId": "b3fa6311-99e0-4148-911a-7d96a70bded5"
      },
      "execution_count": 23,
      "outputs": [
        {
          "output_type": "execute_result",
          "data": {
            "text/plain": [
              "tensor([1., 2., 3.], dtype=torch.float64)"
            ]
          },
          "metadata": {},
          "execution_count": 23
        }
      ]
    },
    {
      "cell_type": "code",
      "source": [
        "# using to()\n",
        "x.to(torch.float32)"
      ],
      "metadata": {
        "colab": {
          "base_uri": "https://localhost:8080/"
        },
        "id": "o8pz6sLk6euz",
        "outputId": "3e86f8f9-1c0c-48e6-829d-918569844288"
      },
      "execution_count": 24,
      "outputs": [
        {
          "output_type": "execute_result",
          "data": {
            "text/plain": [
              "tensor([[1., 2., 3.],\n",
              "        [4., 5., 6.]])"
            ]
          },
          "metadata": {},
          "execution_count": 24
        }
      ]
    },
    {
      "cell_type": "markdown",
      "source": [
        "| **Data Type**             | **Dtype**         | **Description**                                                                                                                                                                |\n",
        "|---------------------------|-------------------|--------------------------------------------------------------------------------------------------------------------------------------------------------------------------------|\n",
        "| **32-bit Floating Point** | `torch.float32`   | Standard floating-point type used for most deep learning tasks. Provides a balance between precision and memory usage.                                                         |\n",
        "| **64-bit Floating Point** | `torch.float64`   | Double-precision floating point. Useful for high-precision numerical tasks but uses more memory.                                                                               |\n",
        "| **16-bit Floating Point** | `torch.float16`   | Half-precision floating point. Commonly used in mixed-precision training to reduce memory and computational overhead on modern GPUs.                                            |\n",
        "| **BFloat16**              | `torch.bfloat16`  | Brain floating-point format with reduced precision compared to `float16`. Used in mixed-precision training, especially on TPUs.                                                |\n",
        "| **8-bit Floating Point**  | `torch.float8`    | Ultra-low-precision floating point. Used for experimental applications and extreme memory-constrained environments (less common).                                               |\n",
        "| **8-bit Integer**         | `torch.int8`      | 8-bit signed integer. Used for quantized models to save memory and computation in inference.                                                                                   |\n",
        "| **16-bit Integer**        | `torch.int16`     | 16-bit signed integer. Useful for special numerical tasks requiring intermediate precision.                                                                                    |\n",
        "| **32-bit Integer**        | `torch.int32`     | Standard signed integer type. Commonly used for indexing and general-purpose numerical tasks.                                                                                  |\n",
        "| **64-bit Integer**        | `torch.int64`     | Long integer type. Often used for large indexing arrays or for tasks involving large numbers.                                                                                  |\n",
        "| **8-bit Unsigned Integer**| `torch.uint8`     | 8-bit unsigned integer. Commonly used for image data (e.g., pixel values between 0 and 255).                                                                                    |\n",
        "| **Boolean**               | `torch.bool`      | Boolean type, stores `True` or `False` values. Often used for masks in logical operations.                                                                                      |\n",
        "| **Complex 64**            | `torch.complex64` | Complex number type with 32-bit real and 32-bit imaginary parts. Used for scientific and signal processing tasks.                                                               |\n",
        "| **Complex 128**           | `torch.complex128`| Complex number type with 64-bit real and 64-bit imaginary parts. Offers higher precision but uses more memory.                                                                 |\n",
        "| **Quantized Integer**     | `torch.qint8`     | Quantized signed 8-bit integer. Used in quantized models for efficient inference.                                                                                              |\n",
        "| **Quantized Unsigned Integer** | `torch.quint8` | Quantized unsigned 8-bit integer. Often used for quantized tensors in image-related tasks.                                                                                     |\n"
      ],
      "metadata": {
        "id": "545NqRX96tbm"
      }
    },
    {
      "cell_type": "markdown",
      "source": [
        "# Mathematical OPerations"
      ],
      "metadata": {
        "id": "xyf3SI0069iT"
      }
    },
    {
      "cell_type": "markdown",
      "source": [
        "## 1. Scalar Operation"
      ],
      "metadata": {
        "id": "r2--zc457AjL"
      }
    },
    {
      "cell_type": "code",
      "source": [
        "x = torch.rand(2,2)\n",
        "x"
      ],
      "metadata": {
        "colab": {
          "base_uri": "https://localhost:8080/"
        },
        "id": "s1NbF9fg6gvs",
        "outputId": "afce9af5-036f-40c2-9324-527e2df325f7"
      },
      "execution_count": 25,
      "outputs": [
        {
          "output_type": "execute_result",
          "data": {
            "text/plain": [
              "tensor([[0.7118, 0.7876],\n",
              "        [0.4183, 0.9014]])"
            ]
          },
          "metadata": {},
          "execution_count": 25
        }
      ]
    },
    {
      "cell_type": "code",
      "source": [
        "# addition\n",
        "x + 2"
      ],
      "metadata": {
        "colab": {
          "base_uri": "https://localhost:8080/"
        },
        "id": "jFNolEn_I_sX",
        "outputId": "033f1b91-79bf-46fa-c7ff-aae1fba183ba"
      },
      "execution_count": 26,
      "outputs": [
        {
          "output_type": "execute_result",
          "data": {
            "text/plain": [
              "tensor([[2.7118, 2.7876],\n",
              "        [2.4183, 2.9014]])"
            ]
          },
          "metadata": {},
          "execution_count": 26
        }
      ]
    },
    {
      "cell_type": "code",
      "source": [
        "# subtraction\n",
        "x - 2"
      ],
      "metadata": {
        "colab": {
          "base_uri": "https://localhost:8080/"
        },
        "id": "s6z_Hgw_I-tq",
        "outputId": "4df502a1-6b8b-465f-87e2-34dff6f89f63"
      },
      "execution_count": 27,
      "outputs": [
        {
          "output_type": "execute_result",
          "data": {
            "text/plain": [
              "tensor([[-1.2882, -1.2124],\n",
              "        [-1.5817, -1.0986]])"
            ]
          },
          "metadata": {},
          "execution_count": 27
        }
      ]
    },
    {
      "cell_type": "code",
      "source": [
        "# multiplication\n",
        "x * 3"
      ],
      "metadata": {
        "colab": {
          "base_uri": "https://localhost:8080/"
        },
        "id": "fQGvOj0bI9qH",
        "outputId": "8dc048af-a7bf-443d-817f-6001222fd043"
      },
      "execution_count": 28,
      "outputs": [
        {
          "output_type": "execute_result",
          "data": {
            "text/plain": [
              "tensor([[2.1353, 2.3627],\n",
              "        [1.2549, 2.7042]])"
            ]
          },
          "metadata": {},
          "execution_count": 28
        }
      ]
    },
    {
      "cell_type": "code",
      "source": [
        "# division\n",
        "x / 3"
      ],
      "metadata": {
        "colab": {
          "base_uri": "https://localhost:8080/"
        },
        "id": "UFvcQ-AZI8KB",
        "outputId": "9e1119e1-2006-4344-9fab-46fd942ae50d"
      },
      "execution_count": 29,
      "outputs": [
        {
          "output_type": "execute_result",
          "data": {
            "text/plain": [
              "tensor([[0.2373, 0.2625],\n",
              "        [0.1394, 0.3005]])"
            ]
          },
          "metadata": {},
          "execution_count": 29
        }
      ]
    },
    {
      "cell_type": "code",
      "source": [
        "# int division\n",
        "(x * 100)//3"
      ],
      "metadata": {
        "colab": {
          "base_uri": "https://localhost:8080/"
        },
        "id": "8j5nt9-uI6uw",
        "outputId": "2580691f-8a99-436b-afc5-4f6fa1d4ec2a"
      },
      "execution_count": 30,
      "outputs": [
        {
          "output_type": "execute_result",
          "data": {
            "text/plain": [
              "tensor([[23., 26.],\n",
              "        [13., 30.]])"
            ]
          },
          "metadata": {},
          "execution_count": 30
        }
      ]
    },
    {
      "cell_type": "code",
      "source": [
        "# mod\n",
        "((x * 100)//3)%2"
      ],
      "metadata": {
        "colab": {
          "base_uri": "https://localhost:8080/"
        },
        "id": "FPS9jNIZI3Qb",
        "outputId": "7642b5fe-52f5-472d-d920-bebc26a885b2"
      },
      "execution_count": 31,
      "outputs": [
        {
          "output_type": "execute_result",
          "data": {
            "text/plain": [
              "tensor([[1., 0.],\n",
              "        [1., 0.]])"
            ]
          },
          "metadata": {},
          "execution_count": 31
        }
      ]
    },
    {
      "cell_type": "code",
      "source": [
        "# power\n",
        "x**2"
      ],
      "metadata": {
        "colab": {
          "base_uri": "https://localhost:8080/"
        },
        "id": "cA_4sp2J7HFo",
        "outputId": "e0270b93-d8d6-4faa-9b0c-c6e70257b580"
      },
      "execution_count": 32,
      "outputs": [
        {
          "output_type": "execute_result",
          "data": {
            "text/plain": [
              "tensor([[0.5066, 0.6203],\n",
              "        [0.1750, 0.8125]])"
            ]
          },
          "metadata": {},
          "execution_count": 32
        }
      ]
    },
    {
      "cell_type": "markdown",
      "source": [
        "## 2. Element wise operation"
      ],
      "metadata": {
        "id": "16C6EuyK7tWz"
      }
    },
    {
      "cell_type": "code",
      "source": [
        "a = torch.rand(2,3)\n",
        "b = torch.rand(2,3)\n",
        "\n",
        "print(a)\n",
        "print(b)"
      ],
      "metadata": {
        "colab": {
          "base_uri": "https://localhost:8080/"
        },
        "id": "hKwQMhp07pXR",
        "outputId": "1d0d3e32-55af-4427-cd26-944ff6755a65"
      },
      "execution_count": 33,
      "outputs": [
        {
          "output_type": "stream",
          "name": "stdout",
          "text": [
            "tensor([[0.9969, 0.7565, 0.2239],\n",
            "        [0.3023, 0.1784, 0.8238]])\n",
            "tensor([[0.5557, 0.9770, 0.4440],\n",
            "        [0.9478, 0.7445, 0.4892]])\n"
          ]
        }
      ]
    },
    {
      "cell_type": "code",
      "source": [
        "# add\n",
        "a + b"
      ],
      "metadata": {
        "colab": {
          "base_uri": "https://localhost:8080/"
        },
        "id": "k4t-E3kDIvw-",
        "outputId": "44cab5b8-411b-454b-887c-3667c04c27f7"
      },
      "execution_count": 34,
      "outputs": [
        {
          "output_type": "execute_result",
          "data": {
            "text/plain": [
              "tensor([[1.5526, 1.7335, 0.6679],\n",
              "        [1.2502, 0.9229, 1.3130]])"
            ]
          },
          "metadata": {},
          "execution_count": 34
        }
      ]
    },
    {
      "cell_type": "code",
      "source": [
        "# sub\n",
        "a - b"
      ],
      "metadata": {
        "colab": {
          "base_uri": "https://localhost:8080/"
        },
        "id": "dj_oCEJiIvYW",
        "outputId": "59a23b39-c670-4ae9-9ceb-a7d3f59b412b"
      },
      "execution_count": 35,
      "outputs": [
        {
          "output_type": "execute_result",
          "data": {
            "text/plain": [
              "tensor([[ 0.4411, -0.2205, -0.2201],\n",
              "        [-0.6455, -0.5661,  0.3346]])"
            ]
          },
          "metadata": {},
          "execution_count": 35
        }
      ]
    },
    {
      "cell_type": "code",
      "source": [
        "# multiply\n",
        "a * b"
      ],
      "metadata": {
        "colab": {
          "base_uri": "https://localhost:8080/"
        },
        "id": "YZW5EGmkIuag",
        "outputId": "5b87522e-0645-4989-cd35-b28b5b1f4673"
      },
      "execution_count": 36,
      "outputs": [
        {
          "output_type": "execute_result",
          "data": {
            "text/plain": [
              "tensor([[0.5540, 0.7391, 0.0994],\n",
              "        [0.2866, 0.1328, 0.4030]])"
            ]
          },
          "metadata": {},
          "execution_count": 36
        }
      ]
    },
    {
      "cell_type": "code",
      "source": [
        "# division\n",
        "a / b"
      ],
      "metadata": {
        "colab": {
          "base_uri": "https://localhost:8080/"
        },
        "id": "WXoq4l4MItg6",
        "outputId": "53d7d272-c4a8-40ec-fd05-3e448c30b4b4"
      },
      "execution_count": 37,
      "outputs": [
        {
          "output_type": "execute_result",
          "data": {
            "text/plain": [
              "tensor([[1.7938, 0.7743, 0.5042],\n",
              "        [0.3190, 0.2397, 1.6841]])"
            ]
          },
          "metadata": {},
          "execution_count": 37
        }
      ]
    },
    {
      "cell_type": "code",
      "source": [
        "# power\n",
        "a ** b"
      ],
      "metadata": {
        "colab": {
          "base_uri": "https://localhost:8080/"
        },
        "id": "WWjeRkZjIqi-",
        "outputId": "85f349b3-45b0-4662-ab52-c31033453b3a"
      },
      "execution_count": 38,
      "outputs": [
        {
          "output_type": "execute_result",
          "data": {
            "text/plain": [
              "tensor([[0.9983, 0.7614, 0.5145],\n",
              "        [0.3218, 0.2771, 0.9096]])"
            ]
          },
          "metadata": {},
          "execution_count": 38
        }
      ]
    },
    {
      "cell_type": "code",
      "source": [
        "# mod\n",
        "a % b"
      ],
      "metadata": {
        "colab": {
          "base_uri": "https://localhost:8080/"
        },
        "id": "Nxq5iZ4874u8",
        "outputId": "5b256b6d-3c40-4da4-c7be-5b5f6e3231eb"
      },
      "execution_count": 39,
      "outputs": [
        {
          "output_type": "execute_result",
          "data": {
            "text/plain": [
              "tensor([[0.4411, 0.7565, 0.2239],\n",
              "        [0.3023, 0.1784, 0.3346]])"
            ]
          },
          "metadata": {},
          "execution_count": 39
        }
      ]
    },
    {
      "cell_type": "code",
      "source": [
        "c = torch.tensor([1, -2, 3, -4])"
      ],
      "metadata": {
        "id": "IWSuh7qV8Kvl"
      },
      "execution_count": 40,
      "outputs": []
    },
    {
      "cell_type": "code",
      "source": [
        "# abs\n",
        "torch.abs(c)"
      ],
      "metadata": {
        "colab": {
          "base_uri": "https://localhost:8080/"
        },
        "id": "6g6qyTpm8Put",
        "outputId": "d02e23de-037c-46f3-8991-79fc5e05336e"
      },
      "execution_count": 41,
      "outputs": [
        {
          "output_type": "execute_result",
          "data": {
            "text/plain": [
              "tensor([1, 2, 3, 4])"
            ]
          },
          "metadata": {},
          "execution_count": 41
        }
      ]
    },
    {
      "cell_type": "code",
      "source": [
        "# negative\n",
        "torch.neg(c)"
      ],
      "metadata": {
        "colab": {
          "base_uri": "https://localhost:8080/"
        },
        "id": "J12Ntxre8R4p",
        "outputId": "cd9360d1-0af4-4a93-8c9d-1e26d3132548"
      },
      "execution_count": 42,
      "outputs": [
        {
          "output_type": "execute_result",
          "data": {
            "text/plain": [
              "tensor([-1,  2, -3,  4])"
            ]
          },
          "metadata": {},
          "execution_count": 42
        }
      ]
    },
    {
      "cell_type": "code",
      "source": [
        "d = torch.tensor([1.9, 2.3, 3.7, 4.4])"
      ],
      "metadata": {
        "id": "SF-ITbrA8Vip"
      },
      "execution_count": 43,
      "outputs": []
    },
    {
      "cell_type": "code",
      "source": [
        "# round\n",
        "torch.round(d)"
      ],
      "metadata": {
        "colab": {
          "base_uri": "https://localhost:8080/"
        },
        "id": "ct7siNDS8bPU",
        "outputId": "39df1faa-2294-4d04-f3a6-1178615bfc73"
      },
      "execution_count": 44,
      "outputs": [
        {
          "output_type": "execute_result",
          "data": {
            "text/plain": [
              "tensor([2., 2., 4., 4.])"
            ]
          },
          "metadata": {},
          "execution_count": 44
        }
      ]
    },
    {
      "cell_type": "code",
      "source": [
        "# ceil\n",
        "torch.ceil(d)"
      ],
      "metadata": {
        "colab": {
          "base_uri": "https://localhost:8080/"
        },
        "id": "wQ7HJGzX8dyb",
        "outputId": "8c4d400b-5514-45e3-a7ba-8980bd88daa4"
      },
      "execution_count": 45,
      "outputs": [
        {
          "output_type": "execute_result",
          "data": {
            "text/plain": [
              "tensor([2., 3., 4., 5.])"
            ]
          },
          "metadata": {},
          "execution_count": 45
        }
      ]
    },
    {
      "cell_type": "code",
      "source": [
        "# floor\n",
        "torch.floor(d)"
      ],
      "metadata": {
        "colab": {
          "base_uri": "https://localhost:8080/"
        },
        "id": "3oJaj08F8ge2",
        "outputId": "4e3af544-e2ce-4f62-b43a-f638f9351b10"
      },
      "execution_count": 46,
      "outputs": [
        {
          "output_type": "execute_result",
          "data": {
            "text/plain": [
              "tensor([1., 2., 3., 4.])"
            ]
          },
          "metadata": {},
          "execution_count": 46
        }
      ]
    },
    {
      "cell_type": "code",
      "source": [
        "# clamp\n",
        "torch.clamp(d, min=2, max=3)"
      ],
      "metadata": {
        "colab": {
          "base_uri": "https://localhost:8080/"
        },
        "id": "Q_cBGUi28iBX",
        "outputId": "3b067a62-4c2f-4f54-b742-2b73441ee9d9"
      },
      "execution_count": 47,
      "outputs": [
        {
          "output_type": "execute_result",
          "data": {
            "text/plain": [
              "tensor([2.0000, 2.3000, 3.0000, 3.0000])"
            ]
          },
          "metadata": {},
          "execution_count": 47
        }
      ]
    },
    {
      "cell_type": "markdown",
      "source": [
        "## 3. Reduction Operation"
      ],
      "metadata": {
        "id": "zAhA0ahY8wLv"
      }
    },
    {
      "cell_type": "code",
      "source": [
        "e = torch.randint(size = (2,3), low = 0, high = 10)\n",
        "e"
      ],
      "metadata": {
        "colab": {
          "base_uri": "https://localhost:8080/"
        },
        "id": "hwjbPThM8tab",
        "outputId": "a68da6b5-a978-4714-ebab-4954bf6f0123"
      },
      "execution_count": 48,
      "outputs": [
        {
          "output_type": "execute_result",
          "data": {
            "text/plain": [
              "tensor([[8, 0, 7],\n",
              "        [0, 0, 9]])"
            ]
          },
          "metadata": {},
          "execution_count": 48
        }
      ]
    },
    {
      "cell_type": "code",
      "source": [
        "e = torch.randint(size = (2,3), low = 0, high = 10, dtype = torch.float32)\n",
        "e"
      ],
      "metadata": {
        "colab": {
          "base_uri": "https://localhost:8080/"
        },
        "id": "Ryzitn3n9WbP",
        "outputId": "43354c53-40ea-4e29-a0ef-78028460d81f"
      },
      "execution_count": 49,
      "outputs": [
        {
          "output_type": "execute_result",
          "data": {
            "text/plain": [
              "tensor([[5., 7., 3.],\n",
              "        [9., 4., 0.]])"
            ]
          },
          "metadata": {},
          "execution_count": 49
        }
      ]
    },
    {
      "cell_type": "code",
      "source": [
        "# sum\n",
        "torch.sum(e)"
      ],
      "metadata": {
        "colab": {
          "base_uri": "https://localhost:8080/"
        },
        "id": "fCMqhtta86ng",
        "outputId": "ac00bd55-2d19-45b5-ee58-da6285d41f5d"
      },
      "execution_count": 50,
      "outputs": [
        {
          "output_type": "execute_result",
          "data": {
            "text/plain": [
              "tensor(28.)"
            ]
          },
          "metadata": {},
          "execution_count": 50
        }
      ]
    },
    {
      "cell_type": "code",
      "source": [
        "# sum along columns\n",
        "torch.sum(e, dim = 0)"
      ],
      "metadata": {
        "colab": {
          "base_uri": "https://localhost:8080/"
        },
        "id": "TEZbWBZ99AED",
        "outputId": "53d42020-e1d6-4ef2-8a76-9d39b42f964d"
      },
      "execution_count": 51,
      "outputs": [
        {
          "output_type": "execute_result",
          "data": {
            "text/plain": [
              "tensor([14., 11.,  3.])"
            ]
          },
          "metadata": {},
          "execution_count": 51
        }
      ]
    },
    {
      "cell_type": "code",
      "source": [
        "# sum along rows\n",
        "torch.sum(e, dim = 1)"
      ],
      "metadata": {
        "colab": {
          "base_uri": "https://localhost:8080/"
        },
        "id": "dwlnEpnC9F2k",
        "outputId": "da8f8593-5901-4092-b7a4-ad0ac957ef65"
      },
      "execution_count": 52,
      "outputs": [
        {
          "output_type": "execute_result",
          "data": {
            "text/plain": [
              "tensor([15., 13.])"
            ]
          },
          "metadata": {},
          "execution_count": 52
        }
      ]
    },
    {
      "cell_type": "code",
      "source": [
        "# mean\n",
        "torch.mean(e)"
      ],
      "metadata": {
        "colab": {
          "base_uri": "https://localhost:8080/"
        },
        "id": "RV6DR_o59Ia-",
        "outputId": "f396602d-a1ec-47a6-95b2-3b03276721c3"
      },
      "execution_count": 53,
      "outputs": [
        {
          "output_type": "execute_result",
          "data": {
            "text/plain": [
              "tensor(4.6667)"
            ]
          },
          "metadata": {},
          "execution_count": 53
        }
      ]
    },
    {
      "cell_type": "code",
      "source": [
        "# mean along col\n",
        "torch.mean(e, dim = 0)"
      ],
      "metadata": {
        "colab": {
          "base_uri": "https://localhost:8080/"
        },
        "id": "ibLcB9Vu9O5j",
        "outputId": "8481583e-5f2b-4ba1-94c1-3fddee03da1b"
      },
      "execution_count": 54,
      "outputs": [
        {
          "output_type": "execute_result",
          "data": {
            "text/plain": [
              "tensor([7.0000, 5.5000, 1.5000])"
            ]
          },
          "metadata": {},
          "execution_count": 54
        }
      ]
    },
    {
      "cell_type": "code",
      "source": [
        "# median\n",
        "torch.median(e)"
      ],
      "metadata": {
        "colab": {
          "base_uri": "https://localhost:8080/"
        },
        "id": "uST3a4DS9fFm",
        "outputId": "c00249c7-062a-4a29-bc16-699758476ee0"
      },
      "execution_count": 55,
      "outputs": [
        {
          "output_type": "execute_result",
          "data": {
            "text/plain": [
              "tensor(4.)"
            ]
          },
          "metadata": {},
          "execution_count": 55
        }
      ]
    },
    {
      "cell_type": "code",
      "source": [
        "# max\n",
        "torch.max(e)"
      ],
      "metadata": {
        "colab": {
          "base_uri": "https://localhost:8080/"
        },
        "id": "lLDy1n5d9gtC",
        "outputId": "cb837480-53b0-477d-da4b-3c4bd26c4788"
      },
      "execution_count": 56,
      "outputs": [
        {
          "output_type": "execute_result",
          "data": {
            "text/plain": [
              "tensor(9.)"
            ]
          },
          "metadata": {},
          "execution_count": 56
        }
      ]
    },
    {
      "cell_type": "code",
      "source": [
        "# min\n",
        "torch.min(e)"
      ],
      "metadata": {
        "colab": {
          "base_uri": "https://localhost:8080/"
        },
        "id": "m8oZGjxZ9jFE",
        "outputId": "f1c2e7f1-300e-4278-c312-d279a8386d97"
      },
      "execution_count": 57,
      "outputs": [
        {
          "output_type": "execute_result",
          "data": {
            "text/plain": [
              "tensor(0.)"
            ]
          },
          "metadata": {},
          "execution_count": 57
        }
      ]
    },
    {
      "cell_type": "code",
      "source": [
        "# product\n",
        "torch.prod(e)"
      ],
      "metadata": {
        "colab": {
          "base_uri": "https://localhost:8080/"
        },
        "id": "w9Ut67RS9kTN",
        "outputId": "5aa06a5a-796f-4106-886d-3d64700ae34e"
      },
      "execution_count": 58,
      "outputs": [
        {
          "output_type": "execute_result",
          "data": {
            "text/plain": [
              "tensor(0.)"
            ]
          },
          "metadata": {},
          "execution_count": 58
        }
      ]
    },
    {
      "cell_type": "code",
      "source": [
        "# standard deviation\n",
        "torch.std(e)"
      ],
      "metadata": {
        "colab": {
          "base_uri": "https://localhost:8080/"
        },
        "id": "BnyoVGLn9m-K",
        "outputId": "523c8cc4-85c4-4ddc-8bd8-6332f834094d"
      },
      "execution_count": 59,
      "outputs": [
        {
          "output_type": "execute_result",
          "data": {
            "text/plain": [
              "tensor(3.1411)"
            ]
          },
          "metadata": {},
          "execution_count": 59
        }
      ]
    },
    {
      "cell_type": "code",
      "source": [
        "# argmax\n",
        "torch.argmax(e)\n",
        "\n",
        "# position of largest element/item"
      ],
      "metadata": {
        "colab": {
          "base_uri": "https://localhost:8080/"
        },
        "id": "OcPGg0jh9qUI",
        "outputId": "2857dbd2-cbf8-4c3d-bd8a-579d38a4fe4e"
      },
      "execution_count": 60,
      "outputs": [
        {
          "output_type": "execute_result",
          "data": {
            "text/plain": [
              "tensor(3)"
            ]
          },
          "metadata": {},
          "execution_count": 60
        }
      ]
    },
    {
      "cell_type": "code",
      "source": [
        "# argmin\n",
        "torch.argmin(e)\n",
        "\n",
        "# position of smallest element/item"
      ],
      "metadata": {
        "colab": {
          "base_uri": "https://localhost:8080/"
        },
        "id": "VxlIYLhS9svE",
        "outputId": "eaf976f6-a37a-4733-fb6a-77c2d42e7b92"
      },
      "execution_count": 61,
      "outputs": [
        {
          "output_type": "execute_result",
          "data": {
            "text/plain": [
              "tensor(5)"
            ]
          },
          "metadata": {},
          "execution_count": 61
        }
      ]
    },
    {
      "cell_type": "markdown",
      "source": [
        "## 4. Matrix Operations"
      ],
      "metadata": {
        "id": "ff5sd-Cb90o_"
      }
    },
    {
      "cell_type": "code",
      "source": [
        "f = torch.randint(size = (2,3), low = 0, high = 10)\n",
        "g = torch.randint(size = (3,2), low = 0, high = 10)\n",
        "\n",
        "print(f)\n",
        "print(g)"
      ],
      "metadata": {
        "colab": {
          "base_uri": "https://localhost:8080/"
        },
        "id": "z_bkLczM9y0U",
        "outputId": "6d7c5d6d-9ba6-4a26-f564-38dbadc99143"
      },
      "execution_count": 62,
      "outputs": [
        {
          "output_type": "stream",
          "name": "stdout",
          "text": [
            "tensor([[5, 7, 5],\n",
            "        [9, 9, 7]])\n",
            "tensor([[5, 9],\n",
            "        [8, 9],\n",
            "        [7, 9]])\n"
          ]
        }
      ]
    },
    {
      "cell_type": "code",
      "source": [
        "# matrix multiplication\n",
        "torch.matmul(f, g)"
      ],
      "metadata": {
        "colab": {
          "base_uri": "https://localhost:8080/"
        },
        "id": "bGHtlYye-E3V",
        "outputId": "56bb8d6b-2418-48ed-88f1-538db5bfb784"
      },
      "execution_count": 63,
      "outputs": [
        {
          "output_type": "execute_result",
          "data": {
            "text/plain": [
              "tensor([[116, 153],\n",
              "        [166, 225]])"
            ]
          },
          "metadata": {},
          "execution_count": 63
        }
      ]
    },
    {
      "cell_type": "code",
      "source": [
        "vector1 = torch.tensor([1, 2])\n",
        "vector2 = torch.tensor([3, 4])\n",
        "\n",
        "# dot product\n",
        "torch.dot(vector1, vector2)\n"
      ],
      "metadata": {
        "colab": {
          "base_uri": "https://localhost:8080/"
        },
        "id": "97rmkPG0-J-A",
        "outputId": "fd66dd20-7bcc-46b5-eca1-ba726a94dc57"
      },
      "execution_count": 64,
      "outputs": [
        {
          "output_type": "execute_result",
          "data": {
            "text/plain": [
              "tensor(11)"
            ]
          },
          "metadata": {},
          "execution_count": 64
        }
      ]
    },
    {
      "cell_type": "code",
      "source": [
        "f"
      ],
      "metadata": {
        "colab": {
          "base_uri": "https://localhost:8080/"
        },
        "id": "BSeCodtg-ej6",
        "outputId": "41dd76c2-d854-407f-e8c5-ca16d879f003"
      },
      "execution_count": 65,
      "outputs": [
        {
          "output_type": "execute_result",
          "data": {
            "text/plain": [
              "tensor([[5, 7, 5],\n",
              "        [9, 9, 7]])"
            ]
          },
          "metadata": {},
          "execution_count": 65
        }
      ]
    },
    {
      "cell_type": "code",
      "source": [
        "# transpose\n",
        "torch.transpose(f, 0, 1)"
      ],
      "metadata": {
        "colab": {
          "base_uri": "https://localhost:8080/"
        },
        "id": "rA5GWdhW-WNf",
        "outputId": "e9b7c8ac-ebde-45c9-b925-dbfca23cf6e0"
      },
      "execution_count": 66,
      "outputs": [
        {
          "output_type": "execute_result",
          "data": {
            "text/plain": [
              "tensor([[5, 9],\n",
              "        [7, 9],\n",
              "        [5, 7]])"
            ]
          },
          "metadata": {},
          "execution_count": 66
        }
      ]
    },
    {
      "cell_type": "code",
      "source": [
        "h = torch.randint(size = (3,3), low = 0, high = 10, dtype=torch.float32)\n",
        "h"
      ],
      "metadata": {
        "colab": {
          "base_uri": "https://localhost:8080/"
        },
        "id": "m2BuqMtv-aYi",
        "outputId": "1dd477ea-7017-4ea1-d239-d1c7cf32a1d1"
      },
      "execution_count": 67,
      "outputs": [
        {
          "output_type": "execute_result",
          "data": {
            "text/plain": [
              "tensor([[2., 6., 7.],\n",
              "        [7., 8., 3.],\n",
              "        [6., 1., 5.]])"
            ]
          },
          "metadata": {},
          "execution_count": 67
        }
      ]
    },
    {
      "cell_type": "code",
      "source": [
        "# determinanat\n",
        "torch.det(h)"
      ],
      "metadata": {
        "colab": {
          "base_uri": "https://localhost:8080/"
        },
        "id": "pkJKiYuS-mGh",
        "outputId": "35ce6681-33fe-4dc9-f831-e4e34c5f9db3"
      },
      "execution_count": 68,
      "outputs": [
        {
          "output_type": "execute_result",
          "data": {
            "text/plain": [
              "tensor(-315.)"
            ]
          },
          "metadata": {},
          "execution_count": 68
        }
      ]
    },
    {
      "cell_type": "code",
      "source": [
        "# inverse\n",
        "torch.inverse(h)"
      ],
      "metadata": {
        "colab": {
          "base_uri": "https://localhost:8080/"
        },
        "id": "yLItuRYi-p33",
        "outputId": "fc58c221-d77f-4991-ce9f-71ae82a164f2"
      },
      "execution_count": 69,
      "outputs": [
        {
          "output_type": "execute_result",
          "data": {
            "text/plain": [
              "tensor([[-0.1175,  0.0730,  0.1206],\n",
              "        [ 0.0540,  0.1016, -0.1365],\n",
              "        [ 0.1302, -0.1079,  0.0825]])"
            ]
          },
          "metadata": {},
          "execution_count": 69
        }
      ]
    },
    {
      "cell_type": "markdown",
      "source": [
        "## 5. Comparison Operations"
      ],
      "metadata": {
        "id": "MtynvQ_3-0ID"
      }
    },
    {
      "cell_type": "code",
      "source": [
        "i = torch.randint(size = (2, 3), low = 0, high = 10)\n",
        "j = torch.randint(size = (2, 3), low = 0, high = 10)\n",
        "\n",
        "print(i)\n",
        "print(j)"
      ],
      "metadata": {
        "colab": {
          "base_uri": "https://localhost:8080/"
        },
        "id": "m_ikITMI-voi",
        "outputId": "70d1d891-2b0e-4691-c00b-1f9815ad37b4"
      },
      "execution_count": 70,
      "outputs": [
        {
          "output_type": "stream",
          "name": "stdout",
          "text": [
            "tensor([[5, 0, 4],\n",
            "        [3, 8, 8]])\n",
            "tensor([[3, 3, 5],\n",
            "        [0, 6, 4]])\n"
          ]
        }
      ]
    },
    {
      "cell_type": "code",
      "source": [
        "# greater than\n",
        "i > j"
      ],
      "metadata": {
        "colab": {
          "base_uri": "https://localhost:8080/"
        },
        "id": "vuYlP7gjAuK3",
        "outputId": "47f46cd9-dd94-4abc-defe-fcc0d3346cb4"
      },
      "execution_count": 71,
      "outputs": [
        {
          "output_type": "execute_result",
          "data": {
            "text/plain": [
              "tensor([[ True, False, False],\n",
              "        [ True,  True,  True]])"
            ]
          },
          "metadata": {},
          "execution_count": 71
        }
      ]
    },
    {
      "cell_type": "code",
      "source": [
        "# less than\n",
        "i < j"
      ],
      "metadata": {
        "colab": {
          "base_uri": "https://localhost:8080/"
        },
        "id": "0pwQ3XYdAyr_",
        "outputId": "75768992-e5ba-4be2-eeb7-31428d15039c"
      },
      "execution_count": 72,
      "outputs": [
        {
          "output_type": "execute_result",
          "data": {
            "text/plain": [
              "tensor([[False,  True,  True],\n",
              "        [False, False, False]])"
            ]
          },
          "metadata": {},
          "execution_count": 72
        }
      ]
    },
    {
      "cell_type": "code",
      "source": [
        "# equal to\n",
        "i == j"
      ],
      "metadata": {
        "colab": {
          "base_uri": "https://localhost:8080/"
        },
        "id": "1hHobpW1A1Uy",
        "outputId": "4a92df18-721d-45f5-b877-3db5b238609d"
      },
      "execution_count": 73,
      "outputs": [
        {
          "output_type": "execute_result",
          "data": {
            "text/plain": [
              "tensor([[False, False, False],\n",
              "        [False, False, False]])"
            ]
          },
          "metadata": {},
          "execution_count": 73
        }
      ]
    },
    {
      "cell_type": "code",
      "source": [
        "# not equal to\n",
        "i != j"
      ],
      "metadata": {
        "colab": {
          "base_uri": "https://localhost:8080/"
        },
        "id": "V6pYIcvWA3rQ",
        "outputId": "4dcd5471-8cdf-4eb5-bc1c-ea29b03b8ea5"
      },
      "execution_count": 74,
      "outputs": [
        {
          "output_type": "execute_result",
          "data": {
            "text/plain": [
              "tensor([[True, True, True],\n",
              "        [True, True, True]])"
            ]
          },
          "metadata": {},
          "execution_count": 74
        }
      ]
    },
    {
      "cell_type": "code",
      "source": [
        "# greater than equal to\n",
        "i >= j"
      ],
      "metadata": {
        "colab": {
          "base_uri": "https://localhost:8080/"
        },
        "id": "LR1fAMipA6w-",
        "outputId": "b5849749-8895-4a5b-962a-95820be5aec5"
      },
      "execution_count": 75,
      "outputs": [
        {
          "output_type": "execute_result",
          "data": {
            "text/plain": [
              "tensor([[ True, False, False],\n",
              "        [ True,  True,  True]])"
            ]
          },
          "metadata": {},
          "execution_count": 75
        }
      ]
    },
    {
      "cell_type": "code",
      "source": [
        "# less than equal to\n",
        "i <= j"
      ],
      "metadata": {
        "colab": {
          "base_uri": "https://localhost:8080/"
        },
        "id": "Ff6lqOtFBB5w",
        "outputId": "2e2e9281-f9db-4b02-a908-7cc6f39242f2"
      },
      "execution_count": 76,
      "outputs": [
        {
          "output_type": "execute_result",
          "data": {
            "text/plain": [
              "tensor([[False,  True,  True],\n",
              "        [False, False, False]])"
            ]
          },
          "metadata": {},
          "execution_count": 76
        }
      ]
    },
    {
      "cell_type": "markdown",
      "source": [
        "## 6. Special Functions"
      ],
      "metadata": {
        "id": "Y0j0C7ytBGcD"
      }
    },
    {
      "cell_type": "code",
      "source": [
        "k = torch.randint(size = (2, 3), low = 0, high = 10)\n",
        "k"
      ],
      "metadata": {
        "colab": {
          "base_uri": "https://localhost:8080/"
        },
        "id": "puE5ru5bBFZw",
        "outputId": "fe0cb50f-b079-49b8-a94c-dab8316cf997"
      },
      "execution_count": 77,
      "outputs": [
        {
          "output_type": "execute_result",
          "data": {
            "text/plain": [
              "tensor([[0, 8, 4],\n",
              "        [7, 2, 3]])"
            ]
          },
          "metadata": {},
          "execution_count": 77
        }
      ]
    },
    {
      "cell_type": "code",
      "source": [
        "k = torch.randint(size = (2, 3), low = 0, high = 10, dtype=torch.float32)\n",
        "k"
      ],
      "metadata": {
        "colab": {
          "base_uri": "https://localhost:8080/"
        },
        "id": "30jmxu6FBgHc",
        "outputId": "0e013949-448c-4428-bbb6-d52ee4ef5010"
      },
      "execution_count": 78,
      "outputs": [
        {
          "output_type": "execute_result",
          "data": {
            "text/plain": [
              "tensor([[8., 5., 6.],\n",
              "        [2., 9., 5.]])"
            ]
          },
          "metadata": {},
          "execution_count": 78
        }
      ]
    },
    {
      "cell_type": "code",
      "source": [
        "# log\n",
        "torch.log(k)"
      ],
      "metadata": {
        "colab": {
          "base_uri": "https://localhost:8080/"
        },
        "id": "HMJTdXPZBPLi",
        "outputId": "68467352-5cb9-4a55-9151-d3bc5b171be3"
      },
      "execution_count": 79,
      "outputs": [
        {
          "output_type": "execute_result",
          "data": {
            "text/plain": [
              "tensor([[2.0794, 1.6094, 1.7918],\n",
              "        [0.6931, 2.1972, 1.6094]])"
            ]
          },
          "metadata": {},
          "execution_count": 79
        }
      ]
    },
    {
      "cell_type": "code",
      "source": [
        "# exp\n",
        "torch.exp(k)"
      ],
      "metadata": {
        "colab": {
          "base_uri": "https://localhost:8080/"
        },
        "id": "HPKr1IwlBRMF",
        "outputId": "670f5a93-475b-4117-b4ff-7476cfbe4ee6"
      },
      "execution_count": 80,
      "outputs": [
        {
          "output_type": "execute_result",
          "data": {
            "text/plain": [
              "tensor([[2.9810e+03, 1.4841e+02, 4.0343e+02],\n",
              "        [7.3891e+00, 8.1031e+03, 1.4841e+02]])"
            ]
          },
          "metadata": {},
          "execution_count": 80
        }
      ]
    },
    {
      "cell_type": "code",
      "source": [
        "# sqrt\n",
        "torch.sqrt(k)"
      ],
      "metadata": {
        "colab": {
          "base_uri": "https://localhost:8080/"
        },
        "id": "_tp4036VBTbl",
        "outputId": "d92d3b70-edf3-4efd-e5d9-e581c0f7ea09"
      },
      "execution_count": 81,
      "outputs": [
        {
          "output_type": "execute_result",
          "data": {
            "text/plain": [
              "tensor([[2.8284, 2.2361, 2.4495],\n",
              "        [1.4142, 3.0000, 2.2361]])"
            ]
          },
          "metadata": {},
          "execution_count": 81
        }
      ]
    },
    {
      "cell_type": "code",
      "source": [
        "# sigmoid\n",
        "torch.sigmoid(k)"
      ],
      "metadata": {
        "colab": {
          "base_uri": "https://localhost:8080/"
        },
        "id": "5FYRCjXyBWkv",
        "outputId": "ef25f9e7-4451-4b5a-b280-29dd5776a58c"
      },
      "execution_count": 82,
      "outputs": [
        {
          "output_type": "execute_result",
          "data": {
            "text/plain": [
              "tensor([[0.9997, 0.9933, 0.9975],\n",
              "        [0.8808, 0.9999, 0.9933]])"
            ]
          },
          "metadata": {},
          "execution_count": 82
        }
      ]
    },
    {
      "cell_type": "code",
      "source": [
        "# softmax\n",
        "torch.softmax(k, dim = 0)"
      ],
      "metadata": {
        "colab": {
          "base_uri": "https://localhost:8080/"
        },
        "id": "UEk3q_O5Bbut",
        "outputId": "2620afe1-dd16-425a-82a9-6b49a335dce9"
      },
      "execution_count": 83,
      "outputs": [
        {
          "output_type": "execute_result",
          "data": {
            "text/plain": [
              "tensor([[0.9975, 0.0180, 0.7311],\n",
              "        [0.0025, 0.9820, 0.2689]])"
            ]
          },
          "metadata": {},
          "execution_count": 83
        }
      ]
    },
    {
      "cell_type": "code",
      "source": [
        "# relu\n",
        "torch.relu(k)"
      ],
      "metadata": {
        "colab": {
          "base_uri": "https://localhost:8080/"
        },
        "id": "SjV4-j6LBkit",
        "outputId": "582b40c4-c55a-4e15-fa60-5df1f81c6185"
      },
      "execution_count": 84,
      "outputs": [
        {
          "output_type": "execute_result",
          "data": {
            "text/plain": [
              "tensor([[8., 5., 6.],\n",
              "        [2., 9., 5.]])"
            ]
          },
          "metadata": {},
          "execution_count": 84
        }
      ]
    },
    {
      "cell_type": "markdown",
      "source": [
        "# Inplace Operations"
      ],
      "metadata": {
        "id": "AN5v3rkgB0Vr"
      }
    },
    {
      "cell_type": "code",
      "source": [
        "m = torch.rand(2, 3)\n",
        "n = torch.rand(2, 3)\n",
        "\n",
        "print(m)\n",
        "print(n)"
      ],
      "metadata": {
        "colab": {
          "base_uri": "https://localhost:8080/"
        },
        "id": "C-NdZjbNBtv0",
        "outputId": "e3d8662c-92da-47fd-8ac6-a9fa1a776297"
      },
      "execution_count": 85,
      "outputs": [
        {
          "output_type": "stream",
          "name": "stdout",
          "text": [
            "tensor([[0.2855, 0.2324, 0.9141],\n",
            "        [0.7668, 0.1659, 0.4393]])\n",
            "tensor([[0.2243, 0.8935, 0.0497],\n",
            "        [0.1780, 0.3011, 0.1893]])\n"
          ]
        }
      ]
    },
    {
      "cell_type": "code",
      "source": [
        "m + n"
      ],
      "metadata": {
        "colab": {
          "base_uri": "https://localhost:8080/"
        },
        "id": "6yQ-YZPaB9Dp",
        "outputId": "18e95d97-9e5b-46c3-880a-09ce86d1fad0"
      },
      "execution_count": 86,
      "outputs": [
        {
          "output_type": "execute_result",
          "data": {
            "text/plain": [
              "tensor([[0.5098, 1.1259, 0.9638],\n",
              "        [0.9448, 0.4670, 0.6286]])"
            ]
          },
          "metadata": {},
          "execution_count": 86
        }
      ]
    },
    {
      "cell_type": "code",
      "source": [
        "m.add_(n)"
      ],
      "metadata": {
        "colab": {
          "base_uri": "https://localhost:8080/"
        },
        "id": "D4c6D1NKB-Kc",
        "outputId": "47a32a44-b347-4c34-d619-d44b36b2a241"
      },
      "execution_count": 87,
      "outputs": [
        {
          "output_type": "execute_result",
          "data": {
            "text/plain": [
              "tensor([[0.5098, 1.1259, 0.9638],\n",
              "        [0.9448, 0.4670, 0.6286]])"
            ]
          },
          "metadata": {},
          "execution_count": 87
        }
      ]
    },
    {
      "cell_type": "code",
      "source": [
        "m"
      ],
      "metadata": {
        "colab": {
          "base_uri": "https://localhost:8080/"
        },
        "id": "qb-lgF7XCOyi",
        "outputId": "ef799ecb-0388-432d-dac5-f9defa136a2f"
      },
      "execution_count": 88,
      "outputs": [
        {
          "output_type": "execute_result",
          "data": {
            "text/plain": [
              "tensor([[0.5098, 1.1259, 0.9638],\n",
              "        [0.9448, 0.4670, 0.6286]])"
            ]
          },
          "metadata": {},
          "execution_count": 88
        }
      ]
    },
    {
      "cell_type": "code",
      "source": [
        "n"
      ],
      "metadata": {
        "colab": {
          "base_uri": "https://localhost:8080/"
        },
        "id": "_9-pg3B7CP_u",
        "outputId": "99bb7f96-3082-4993-a1e8-853eaaa3bc38"
      },
      "execution_count": 89,
      "outputs": [
        {
          "output_type": "execute_result",
          "data": {
            "text/plain": [
              "tensor([[0.2243, 0.8935, 0.0497],\n",
              "        [0.1780, 0.3011, 0.1893]])"
            ]
          },
          "metadata": {},
          "execution_count": 89
        }
      ]
    },
    {
      "cell_type": "code",
      "source": [
        "torch.relu(m)"
      ],
      "metadata": {
        "colab": {
          "base_uri": "https://localhost:8080/"
        },
        "id": "-vMPnWt2CZfG",
        "outputId": "b0903aef-853e-473e-b88f-2e99c00751e4"
      },
      "execution_count": 90,
      "outputs": [
        {
          "output_type": "execute_result",
          "data": {
            "text/plain": [
              "tensor([[0.5098, 1.1259, 0.9638],\n",
              "        [0.9448, 0.4670, 0.6286]])"
            ]
          },
          "metadata": {},
          "execution_count": 90
        }
      ]
    },
    {
      "cell_type": "code",
      "source": [
        "m.relu_()"
      ],
      "metadata": {
        "colab": {
          "base_uri": "https://localhost:8080/"
        },
        "id": "8tiMncRdCb7f",
        "outputId": "2fb1beca-9a22-4e00-d603-38c8092db0fe"
      },
      "execution_count": 91,
      "outputs": [
        {
          "output_type": "execute_result",
          "data": {
            "text/plain": [
              "tensor([[0.5098, 1.1259, 0.9638],\n",
              "        [0.9448, 0.4670, 0.6286]])"
            ]
          },
          "metadata": {},
          "execution_count": 91
        }
      ]
    },
    {
      "cell_type": "code",
      "source": [
        "m"
      ],
      "metadata": {
        "colab": {
          "base_uri": "https://localhost:8080/"
        },
        "id": "AAilCiLcCfaW",
        "outputId": "d54ee2c0-34cd-4381-8073-4b1c7a95c9ce"
      },
      "execution_count": 92,
      "outputs": [
        {
          "output_type": "execute_result",
          "data": {
            "text/plain": [
              "tensor([[0.5098, 1.1259, 0.9638],\n",
              "        [0.9448, 0.4670, 0.6286]])"
            ]
          },
          "metadata": {},
          "execution_count": 92
        }
      ]
    },
    {
      "cell_type": "code",
      "source": [
        "# _ resembles inplace operations"
      ],
      "metadata": {
        "id": "g--HSvnYCgDj"
      },
      "execution_count": 93,
      "outputs": []
    },
    {
      "cell_type": "markdown",
      "source": [
        "# Copying a Tensor"
      ],
      "metadata": {
        "id": "DXqjk9LjCsGp"
      }
    },
    {
      "cell_type": "code",
      "source": [
        "a = torch.rand(2, 3)\n",
        "a"
      ],
      "metadata": {
        "colab": {
          "base_uri": "https://localhost:8080/"
        },
        "id": "8-jsJ1I2CrXG",
        "outputId": "67524415-104e-486c-eb37-021dd866cccd"
      },
      "execution_count": 94,
      "outputs": [
        {
          "output_type": "execute_result",
          "data": {
            "text/plain": [
              "tensor([[0.9186, 0.2131, 0.3957],\n",
              "        [0.6017, 0.4234, 0.5224]])"
            ]
          },
          "metadata": {},
          "execution_count": 94
        }
      ]
    },
    {
      "cell_type": "code",
      "source": [
        "b = a"
      ],
      "metadata": {
        "id": "YNzRnCmKCwZI"
      },
      "execution_count": 95,
      "outputs": []
    },
    {
      "cell_type": "code",
      "source": [
        "b"
      ],
      "metadata": {
        "colab": {
          "base_uri": "https://localhost:8080/"
        },
        "id": "zCBOqdJlC0T4",
        "outputId": "1d5019b4-a29f-4ce6-bc11-926e6a61a16c"
      },
      "execution_count": 96,
      "outputs": [
        {
          "output_type": "execute_result",
          "data": {
            "text/plain": [
              "tensor([[0.9186, 0.2131, 0.3957],\n",
              "        [0.6017, 0.4234, 0.5224]])"
            ]
          },
          "metadata": {},
          "execution_count": 96
        }
      ]
    },
    {
      "cell_type": "code",
      "source": [
        "a[0][0] = 0"
      ],
      "metadata": {
        "id": "5O2a8ik7C0qs"
      },
      "execution_count": 97,
      "outputs": []
    },
    {
      "cell_type": "code",
      "source": [
        "a"
      ],
      "metadata": {
        "colab": {
          "base_uri": "https://localhost:8080/"
        },
        "id": "9NRrh1kFC4Rv",
        "outputId": "2b9c86d1-8dbb-48a2-fe0b-eeee9aec9fa2"
      },
      "execution_count": 98,
      "outputs": [
        {
          "output_type": "execute_result",
          "data": {
            "text/plain": [
              "tensor([[0.0000, 0.2131, 0.3957],\n",
              "        [0.6017, 0.4234, 0.5224]])"
            ]
          },
          "metadata": {},
          "execution_count": 98
        }
      ]
    },
    {
      "cell_type": "code",
      "source": [
        "b"
      ],
      "metadata": {
        "colab": {
          "base_uri": "https://localhost:8080/"
        },
        "id": "MiyyY3KJC48C",
        "outputId": "994101a4-6a5a-4dd2-c7d6-e48b925715a5"
      },
      "execution_count": 99,
      "outputs": [
        {
          "output_type": "execute_result",
          "data": {
            "text/plain": [
              "tensor([[0.0000, 0.2131, 0.3957],\n",
              "        [0.6017, 0.4234, 0.5224]])"
            ]
          },
          "metadata": {},
          "execution_count": 99
        }
      ]
    },
    {
      "cell_type": "code",
      "source": [
        "id(a)"
      ],
      "metadata": {
        "colab": {
          "base_uri": "https://localhost:8080/"
        },
        "id": "xTqKVNe6C5sG",
        "outputId": "749332c7-177b-48b0-8fcb-5c8607061488"
      },
      "execution_count": 100,
      "outputs": [
        {
          "output_type": "execute_result",
          "data": {
            "text/plain": [
              "133718516147024"
            ]
          },
          "metadata": {},
          "execution_count": 100
        }
      ]
    },
    {
      "cell_type": "code",
      "source": [
        "id(b)"
      ],
      "metadata": {
        "colab": {
          "base_uri": "https://localhost:8080/"
        },
        "id": "rgUhSXjaDFA5",
        "outputId": "755749a2-b5ce-4858-c913-c98772bbca14"
      },
      "execution_count": 101,
      "outputs": [
        {
          "output_type": "execute_result",
          "data": {
            "text/plain": [
              "133718516147024"
            ]
          },
          "metadata": {},
          "execution_count": 101
        }
      ]
    },
    {
      "cell_type": "code",
      "source": [
        "b = a.clone()"
      ],
      "metadata": {
        "id": "Fb1J5uK5DFyq"
      },
      "execution_count": 102,
      "outputs": []
    },
    {
      "cell_type": "code",
      "source": [
        "a"
      ],
      "metadata": {
        "colab": {
          "base_uri": "https://localhost:8080/"
        },
        "id": "J_l3xZ4lDNBN",
        "outputId": "967b378c-dcec-4fbd-d03f-02c5b475fb25"
      },
      "execution_count": 103,
      "outputs": [
        {
          "output_type": "execute_result",
          "data": {
            "text/plain": [
              "tensor([[0.0000, 0.2131, 0.3957],\n",
              "        [0.6017, 0.4234, 0.5224]])"
            ]
          },
          "metadata": {},
          "execution_count": 103
        }
      ]
    },
    {
      "cell_type": "code",
      "source": [
        "b"
      ],
      "metadata": {
        "colab": {
          "base_uri": "https://localhost:8080/"
        },
        "id": "khd10u3WDNhe",
        "outputId": "3561ddf9-3d0d-48dd-c57b-cfab04e82658"
      },
      "execution_count": 104,
      "outputs": [
        {
          "output_type": "execute_result",
          "data": {
            "text/plain": [
              "tensor([[0.0000, 0.2131, 0.3957],\n",
              "        [0.6017, 0.4234, 0.5224]])"
            ]
          },
          "metadata": {},
          "execution_count": 104
        }
      ]
    },
    {
      "cell_type": "code",
      "source": [
        "a[0][0] = 10"
      ],
      "metadata": {
        "id": "HQNlFxjADNye"
      },
      "execution_count": 105,
      "outputs": []
    },
    {
      "cell_type": "code",
      "source": [
        "a"
      ],
      "metadata": {
        "colab": {
          "base_uri": "https://localhost:8080/"
        },
        "id": "jlZW-ryQDRf7",
        "outputId": "69bde2b1-8e96-4fc9-a9e3-9510b90ed19d"
      },
      "execution_count": 106,
      "outputs": [
        {
          "output_type": "execute_result",
          "data": {
            "text/plain": [
              "tensor([[10.0000,  0.2131,  0.3957],\n",
              "        [ 0.6017,  0.4234,  0.5224]])"
            ]
          },
          "metadata": {},
          "execution_count": 106
        }
      ]
    },
    {
      "cell_type": "code",
      "source": [
        "b"
      ],
      "metadata": {
        "colab": {
          "base_uri": "https://localhost:8080/"
        },
        "id": "rMQp0BsUDSIE",
        "outputId": "d047541a-be06-4a60-b97e-8396742618ed"
      },
      "execution_count": 107,
      "outputs": [
        {
          "output_type": "execute_result",
          "data": {
            "text/plain": [
              "tensor([[0.0000, 0.2131, 0.3957],\n",
              "        [0.6017, 0.4234, 0.5224]])"
            ]
          },
          "metadata": {},
          "execution_count": 107
        }
      ]
    },
    {
      "cell_type": "code",
      "source": [
        "id(a)"
      ],
      "metadata": {
        "colab": {
          "base_uri": "https://localhost:8080/"
        },
        "id": "HI54TWn0DSaz",
        "outputId": "8187f94b-2ae7-4686-bc85-68d20c2fb2b9"
      },
      "execution_count": 108,
      "outputs": [
        {
          "output_type": "execute_result",
          "data": {
            "text/plain": [
              "133718516147024"
            ]
          },
          "metadata": {},
          "execution_count": 108
        }
      ]
    },
    {
      "cell_type": "code",
      "source": [
        "id(b)"
      ],
      "metadata": {
        "colab": {
          "base_uri": "https://localhost:8080/"
        },
        "id": "AmWwMtu3DTYt",
        "outputId": "d2e6aed1-bc61-48ed-f577-f287451c4c82"
      },
      "execution_count": 109,
      "outputs": [
        {
          "output_type": "execute_result",
          "data": {
            "text/plain": [
              "133718516377600"
            ]
          },
          "metadata": {},
          "execution_count": 109
        }
      ]
    },
    {
      "cell_type": "markdown",
      "source": [
        "# Tensor Operations on GPU"
      ],
      "metadata": {
        "id": "aUmt44huEG2S"
      }
    },
    {
      "cell_type": "code",
      "source": [
        "torch.cuda.is_available()"
      ],
      "metadata": {
        "colab": {
          "base_uri": "https://localhost:8080/"
        },
        "id": "9DoNY0m5DjXk",
        "outputId": "09f79dc9-deb2-452e-b872-a87c2cb223a9"
      },
      "execution_count": 110,
      "outputs": [
        {
          "output_type": "execute_result",
          "data": {
            "text/plain": [
              "True"
            ]
          },
          "metadata": {},
          "execution_count": 110
        }
      ]
    },
    {
      "cell_type": "code",
      "source": [
        "device = torch.device('cuda')"
      ],
      "metadata": {
        "id": "v7XFB8kMDnUj"
      },
      "execution_count": 111,
      "outputs": []
    },
    {
      "cell_type": "code",
      "source": [
        "# creating a new tensor on GPU\n",
        "\n",
        "torch.rand((2, 3), device = device)"
      ],
      "metadata": {
        "colab": {
          "base_uri": "https://localhost:8080/"
        },
        "id": "xn5-fzDoD4M1",
        "outputId": "16daf93b-2fdb-486d-d084-4770a2e5eff2"
      },
      "execution_count": 112,
      "outputs": [
        {
          "output_type": "execute_result",
          "data": {
            "text/plain": [
              "tensor([[0.3563, 0.0303, 0.7088],\n",
              "        [0.2009, 0.0224, 0.9896]], device='cuda:0')"
            ]
          },
          "metadata": {},
          "execution_count": 112
        }
      ]
    },
    {
      "cell_type": "code",
      "source": [
        "# moving an existing tensor to GPU\n",
        "\n",
        "a = torch.rand((2, 3))\n",
        "a"
      ],
      "metadata": {
        "colab": {
          "base_uri": "https://localhost:8080/"
        },
        "id": "6Hzc7wH-D7Mj",
        "outputId": "11ab7f5c-2a4d-4e36-b5e3-1421d25f8232"
      },
      "execution_count": 113,
      "outputs": [
        {
          "output_type": "execute_result",
          "data": {
            "text/plain": [
              "tensor([[0.4175, 0.0340, 0.9157],\n",
              "        [0.3079, 0.6269, 0.8277]])"
            ]
          },
          "metadata": {},
          "execution_count": 113
        }
      ]
    },
    {
      "cell_type": "code",
      "source": [
        "b = a.to(device)"
      ],
      "metadata": {
        "id": "Ng9x3u7OEYB-"
      },
      "execution_count": 114,
      "outputs": []
    },
    {
      "cell_type": "code",
      "source": [
        "b + 5"
      ],
      "metadata": {
        "colab": {
          "base_uri": "https://localhost:8080/"
        },
        "id": "33zmHFkHEfdd",
        "outputId": "63915956-66a0-4e26-e2b8-a9054c89fe06"
      },
      "execution_count": 115,
      "outputs": [
        {
          "output_type": "execute_result",
          "data": {
            "text/plain": [
              "tensor([[5.4175, 5.0340, 5.9157],\n",
              "        [5.3079, 5.6269, 5.8277]], device='cuda:0')"
            ]
          },
          "metadata": {},
          "execution_count": 115
        }
      ]
    },
    {
      "cell_type": "code",
      "source": [
        "import torch\n",
        "import time\n",
        "\n",
        "# Derfine the size of the matrices\n",
        "size = 10000 # Large size for performance comparison\n",
        "\n",
        "# Create random matrices on GPU\n",
        "matrix_cpu1 = torch.randn(size, size)\n",
        "matrix_cpu2 = torch.randn(size, size)\n",
        "\n",
        "# Measure time on CPU\n",
        "start_time = time.time()\n",
        "result_cpu = torch.matmul(matrix_cpu1, matrix_cpu2) # Matrix Multiplication on CPU\n",
        "cpu_time = time.time() - start_time\n",
        "\n",
        "print(f\"Time on CPU: {cpu_time:.4f} seconds\")\n",
        "\n",
        "# Move matrices to GPU\n",
        "matrix_gpu1 = matrix_cpu1.to('cuda')\n",
        "matrix_gpu2 = matrix_cpu2.to('cuda')\n",
        "\n",
        "# Measure time on GPU\n",
        "start_time = time.time()\n",
        "result_gpu = torch.matmul(matrix_gpu1, matrix_gpu2) # Matrix Multiplication on GPU\n",
        "torch.cuda.synchronize()  # Ensure all GPU operations are complete\n",
        "gpu_time = time.time() - start_time\n",
        "\n",
        "print(f\"Time on GPU: {gpu_time:.4f} seconds\")\n",
        "\n",
        "# Compare results\n",
        "print(\"\\nSpeedup (CPU time / GPU time):\", cpu_time / gpu_time)"
      ],
      "metadata": {
        "colab": {
          "base_uri": "https://localhost:8080/"
        },
        "id": "l5qjhD_hEjNo",
        "outputId": "214883c5-d950-452f-871d-b98873f7cd61"
      },
      "execution_count": 116,
      "outputs": [
        {
          "output_type": "stream",
          "name": "stdout",
          "text": [
            "Time on CPU: 17.1347 seconds\n",
            "Time on GPU: 0.5773 seconds\n",
            "\n",
            "Speedup (CPU time / GPU time): 29.681479147272928\n"
          ]
        }
      ]
    },
    {
      "cell_type": "markdown",
      "source": [
        "# Reshaping Tensors"
      ],
      "metadata": {
        "id": "wboT3UavGaKa"
      }
    },
    {
      "cell_type": "code",
      "source": [
        "a = torch.ones(4, 4)\n",
        "a"
      ],
      "metadata": {
        "colab": {
          "base_uri": "https://localhost:8080/"
        },
        "id": "qFnx5ry8GMKY",
        "outputId": "511e6297-dd7f-454d-9e48-014408f1779b"
      },
      "execution_count": 117,
      "outputs": [
        {
          "output_type": "execute_result",
          "data": {
            "text/plain": [
              "tensor([[1., 1., 1., 1.],\n",
              "        [1., 1., 1., 1.],\n",
              "        [1., 1., 1., 1.],\n",
              "        [1., 1., 1., 1.]])"
            ]
          },
          "metadata": {},
          "execution_count": 117
        }
      ]
    },
    {
      "cell_type": "code",
      "source": [
        "# reshape\n",
        "a.reshape(2,2,2,2)"
      ],
      "metadata": {
        "colab": {
          "base_uri": "https://localhost:8080/"
        },
        "id": "kLfMeJTAGhJI",
        "outputId": "92ff7139-2a3d-48f0-f892-7c3db264e3e8"
      },
      "execution_count": 118,
      "outputs": [
        {
          "output_type": "execute_result",
          "data": {
            "text/plain": [
              "tensor([[[[1., 1.],\n",
              "          [1., 1.]],\n",
              "\n",
              "         [[1., 1.],\n",
              "          [1., 1.]]],\n",
              "\n",
              "\n",
              "        [[[1., 1.],\n",
              "          [1., 1.]],\n",
              "\n",
              "         [[1., 1.],\n",
              "          [1., 1.]]]])"
            ]
          },
          "metadata": {},
          "execution_count": 118
        }
      ]
    },
    {
      "cell_type": "code",
      "source": [
        "# flatten\n",
        "a.flatten()"
      ],
      "metadata": {
        "colab": {
          "base_uri": "https://localhost:8080/"
        },
        "id": "Wa36INUDGk-w",
        "outputId": "227fd913-3d09-451b-e369-7b41e8080915"
      },
      "execution_count": 119,
      "outputs": [
        {
          "output_type": "execute_result",
          "data": {
            "text/plain": [
              "tensor([1., 1., 1., 1., 1., 1., 1., 1., 1., 1., 1., 1., 1., 1., 1., 1.])"
            ]
          },
          "metadata": {},
          "execution_count": 119
        }
      ]
    },
    {
      "cell_type": "code",
      "source": [
        "b = torch.rand(2, 3, 4)\n",
        "b"
      ],
      "metadata": {
        "colab": {
          "base_uri": "https://localhost:8080/"
        },
        "id": "5Xw3FJkfGsE4",
        "outputId": "a822d069-3492-4ad9-f306-7dc7fbfe9999"
      },
      "execution_count": 120,
      "outputs": [
        {
          "output_type": "execute_result",
          "data": {
            "text/plain": [
              "tensor([[[0.1174, 0.6532, 0.5115, 0.3094],\n",
              "         [0.7907, 0.7351, 0.2693, 0.8009],\n",
              "         [0.5839, 0.0061, 0.4671, 0.8243]],\n",
              "\n",
              "        [[0.2861, 0.7459, 0.8487, 0.4059],\n",
              "         [0.2883, 0.2220, 0.6423, 0.7098],\n",
              "         [0.5644, 0.4549, 0.0729, 0.8535]]])"
            ]
          },
          "metadata": {},
          "execution_count": 120
        }
      ]
    },
    {
      "cell_type": "code",
      "source": [
        "# permute\n",
        "b.permute(2, 0, 1)"
      ],
      "metadata": {
        "colab": {
          "base_uri": "https://localhost:8080/"
        },
        "id": "aWcfyksjGt6U",
        "outputId": "0f3cc389-b2ac-4aa9-9337-88ffe0690a86"
      },
      "execution_count": 121,
      "outputs": [
        {
          "output_type": "execute_result",
          "data": {
            "text/plain": [
              "tensor([[[0.1174, 0.7907, 0.5839],\n",
              "         [0.2861, 0.2883, 0.5644]],\n",
              "\n",
              "        [[0.6532, 0.7351, 0.0061],\n",
              "         [0.7459, 0.2220, 0.4549]],\n",
              "\n",
              "        [[0.5115, 0.2693, 0.4671],\n",
              "         [0.8487, 0.6423, 0.0729]],\n",
              "\n",
              "        [[0.3094, 0.8009, 0.8243],\n",
              "         [0.4059, 0.7098, 0.8535]]])"
            ]
          },
          "metadata": {},
          "execution_count": 121
        }
      ]
    },
    {
      "cell_type": "code",
      "source": [
        "b.permute(2, 0, 1).shape"
      ],
      "metadata": {
        "colab": {
          "base_uri": "https://localhost:8080/"
        },
        "id": "RreZ2jejG9W1",
        "outputId": "9aa1b100-9dc5-43ec-fb8d-d9e83ffd1ced"
      },
      "execution_count": 122,
      "outputs": [
        {
          "output_type": "execute_result",
          "data": {
            "text/plain": [
              "torch.Size([4, 2, 3])"
            ]
          },
          "metadata": {},
          "execution_count": 122
        }
      ]
    },
    {
      "cell_type": "code",
      "source": [
        "b.permute(2, 1, 0)"
      ],
      "metadata": {
        "colab": {
          "base_uri": "https://localhost:8080/"
        },
        "id": "ofE1FgiXHAGm",
        "outputId": "ff517005-436e-4e4b-fefa-898930540e80"
      },
      "execution_count": 123,
      "outputs": [
        {
          "output_type": "execute_result",
          "data": {
            "text/plain": [
              "tensor([[[0.1174, 0.2861],\n",
              "         [0.7907, 0.2883],\n",
              "         [0.5839, 0.5644]],\n",
              "\n",
              "        [[0.6532, 0.7459],\n",
              "         [0.7351, 0.2220],\n",
              "         [0.0061, 0.4549]],\n",
              "\n",
              "        [[0.5115, 0.8487],\n",
              "         [0.2693, 0.6423],\n",
              "         [0.4671, 0.0729]],\n",
              "\n",
              "        [[0.3094, 0.4059],\n",
              "         [0.8009, 0.7098],\n",
              "         [0.8243, 0.8535]]])"
            ]
          },
          "metadata": {},
          "execution_count": 123
        }
      ]
    },
    {
      "cell_type": "code",
      "source": [
        "b.permute(2, 1, 0).shape"
      ],
      "metadata": {
        "colab": {
          "base_uri": "https://localhost:8080/"
        },
        "id": "Lexz-EK1HBph",
        "outputId": "a80a8099-478f-4044-97f9-174f026a8c63"
      },
      "execution_count": 124,
      "outputs": [
        {
          "output_type": "execute_result",
          "data": {
            "text/plain": [
              "torch.Size([4, 3, 2])"
            ]
          },
          "metadata": {},
          "execution_count": 124
        }
      ]
    },
    {
      "cell_type": "code",
      "source": [
        "# unsqueeze\n",
        "# image size\n",
        "# 226, 226, 3, typical image size\n",
        "c = torch.rand(226, 226, 3)\n",
        "c.unsqueeze(0).shape"
      ],
      "metadata": {
        "colab": {
          "base_uri": "https://localhost:8080/"
        },
        "id": "HTynrHEPHDsy",
        "outputId": "83efd9bd-15ff-4746-8147-c1d08481faf7"
      },
      "execution_count": 125,
      "outputs": [
        {
          "output_type": "execute_result",
          "data": {
            "text/plain": [
              "torch.Size([1, 226, 226, 3])"
            ]
          },
          "metadata": {},
          "execution_count": 125
        }
      ]
    },
    {
      "cell_type": "code",
      "source": [
        "c.unsqueeze(1).shape"
      ],
      "metadata": {
        "colab": {
          "base_uri": "https://localhost:8080/"
        },
        "id": "Bap19SfPHVP9",
        "outputId": "e6211799-6e18-4fbb-b9dc-b659eae0c8ae"
      },
      "execution_count": 126,
      "outputs": [
        {
          "output_type": "execute_result",
          "data": {
            "text/plain": [
              "torch.Size([226, 1, 226, 3])"
            ]
          },
          "metadata": {},
          "execution_count": 126
        }
      ]
    },
    {
      "cell_type": "code",
      "source": [
        "c.unsqueeze(2).shape"
      ],
      "metadata": {
        "colab": {
          "base_uri": "https://localhost:8080/"
        },
        "id": "EjsaH5vEHXHt",
        "outputId": "c1e394c4-d979-460b-9e28-63f79dc86a70"
      },
      "execution_count": 127,
      "outputs": [
        {
          "output_type": "execute_result",
          "data": {
            "text/plain": [
              "torch.Size([226, 226, 1, 3])"
            ]
          },
          "metadata": {},
          "execution_count": 127
        }
      ]
    },
    {
      "cell_type": "code",
      "source": [
        "c.unsqueeze(3).shape"
      ],
      "metadata": {
        "colab": {
          "base_uri": "https://localhost:8080/"
        },
        "id": "RYVhRnctHYa1",
        "outputId": "77439b0e-2bfa-4c44-fec7-1e7ef6e0b72b"
      },
      "execution_count": 128,
      "outputs": [
        {
          "output_type": "execute_result",
          "data": {
            "text/plain": [
              "torch.Size([226, 226, 3, 1])"
            ]
          },
          "metadata": {},
          "execution_count": 128
        }
      ]
    },
    {
      "cell_type": "code",
      "source": [
        "#  squeeze\n",
        "d = torch.rand(1, 20)\n",
        "d"
      ],
      "metadata": {
        "colab": {
          "base_uri": "https://localhost:8080/"
        },
        "id": "ahE3N6WCHZyL",
        "outputId": "3b326ac8-3ca7-42e4-e854-54eb20ee13a2"
      },
      "execution_count": 129,
      "outputs": [
        {
          "output_type": "execute_result",
          "data": {
            "text/plain": [
              "tensor([[0.3753, 0.2057, 0.5643, 0.4419, 0.5215, 0.6743, 0.0401, 0.7158, 0.0702,\n",
              "         0.4443, 0.6302, 0.6179, 0.1797, 0.3512, 0.0083, 0.1996, 0.9616, 0.6520,\n",
              "         0.2396, 0.8719]])"
            ]
          },
          "metadata": {},
          "execution_count": 129
        }
      ]
    },
    {
      "cell_type": "code",
      "source": [
        "d.squeeze(0).shape"
      ],
      "metadata": {
        "colab": {
          "base_uri": "https://localhost:8080/"
        },
        "id": "iRI5kFKYHuuh",
        "outputId": "5d9fd8f9-2a67-4c1a-9004-6a285653bc0d"
      },
      "execution_count": 130,
      "outputs": [
        {
          "output_type": "execute_result",
          "data": {
            "text/plain": [
              "torch.Size([20])"
            ]
          },
          "metadata": {},
          "execution_count": 130
        }
      ]
    },
    {
      "cell_type": "markdown",
      "source": [
        "# NumPy and PyTorch"
      ],
      "metadata": {
        "id": "pSEhL8v2H0EI"
      }
    },
    {
      "cell_type": "code",
      "source": [
        "import numpy as np"
      ],
      "metadata": {
        "id": "NdIz-E4GHyB1"
      },
      "execution_count": 131,
      "outputs": []
    },
    {
      "cell_type": "code",
      "source": [
        "a = torch.tensor([1,2,3])\n",
        "a"
      ],
      "metadata": {
        "colab": {
          "base_uri": "https://localhost:8080/"
        },
        "id": "I-cJ8xJTH44e",
        "outputId": "b3a3b00c-8dfb-41ef-bbc0-8354ee9fb4fa"
      },
      "execution_count": 132,
      "outputs": [
        {
          "output_type": "execute_result",
          "data": {
            "text/plain": [
              "tensor([1, 2, 3])"
            ]
          },
          "metadata": {},
          "execution_count": 132
        }
      ]
    },
    {
      "cell_type": "code",
      "source": [
        "b = a.numpy()"
      ],
      "metadata": {
        "id": "mxPc3-wSID3m"
      },
      "execution_count": 133,
      "outputs": []
    },
    {
      "cell_type": "code",
      "source": [
        "b"
      ],
      "metadata": {
        "colab": {
          "base_uri": "https://localhost:8080/"
        },
        "id": "vrlZFD92IHpY",
        "outputId": "573e18f4-01f7-493b-8cb0-ba01c734b411"
      },
      "execution_count": 134,
      "outputs": [
        {
          "output_type": "execute_result",
          "data": {
            "text/plain": [
              "array([1, 2, 3])"
            ]
          },
          "metadata": {},
          "execution_count": 134
        }
      ]
    },
    {
      "cell_type": "code",
      "source": [
        "type(b)"
      ],
      "metadata": {
        "colab": {
          "base_uri": "https://localhost:8080/"
        },
        "id": "1maFyi26IIUy",
        "outputId": "88a89cb7-f5f1-4fa8-bfec-96a7976703c3"
      },
      "execution_count": 135,
      "outputs": [
        {
          "output_type": "execute_result",
          "data": {
            "text/plain": [
              "numpy.ndarray"
            ]
          },
          "metadata": {},
          "execution_count": 135
        }
      ]
    },
    {
      "cell_type": "code",
      "source": [
        "c = np.array([1,2,3])\n",
        "c"
      ],
      "metadata": {
        "colab": {
          "base_uri": "https://localhost:8080/"
        },
        "id": "7VoV5lATILmB",
        "outputId": "d314ae14-cc08-4478-cb70-c1377cef4b38"
      },
      "execution_count": 136,
      "outputs": [
        {
          "output_type": "execute_result",
          "data": {
            "text/plain": [
              "array([1, 2, 3])"
            ]
          },
          "metadata": {},
          "execution_count": 136
        }
      ]
    },
    {
      "cell_type": "code",
      "source": [
        "torch.from_numpy(c)"
      ],
      "metadata": {
        "colab": {
          "base_uri": "https://localhost:8080/"
        },
        "id": "I29tUyPGIN-G",
        "outputId": "eece236b-4855-4097-f5f9-428a601a76f7"
      },
      "execution_count": 137,
      "outputs": [
        {
          "output_type": "execute_result",
          "data": {
            "text/plain": [
              "tensor([1, 2, 3])"
            ]
          },
          "metadata": {},
          "execution_count": 137
        }
      ]
    },
    {
      "cell_type": "code",
      "source": [
        "d = torch.from_numpy(c)"
      ],
      "metadata": {
        "id": "3_VhhLpvIWeC"
      },
      "execution_count": 138,
      "outputs": []
    },
    {
      "cell_type": "code",
      "source": [
        "type(d)"
      ],
      "metadata": {
        "colab": {
          "base_uri": "https://localhost:8080/"
        },
        "id": "qvDdNsP8IRli",
        "outputId": "ac046b2b-ba74-4295-fc40-cd274fd62be2"
      },
      "execution_count": 139,
      "outputs": [
        {
          "output_type": "execute_result",
          "data": {
            "text/plain": [
              "torch.Tensor"
            ]
          },
          "metadata": {},
          "execution_count": 139
        }
      ]
    },
    {
      "cell_type": "code",
      "source": [],
      "metadata": {
        "id": "j-lp9Lb5ITh5"
      },
      "execution_count": 139,
      "outputs": []
    }
  ]
}